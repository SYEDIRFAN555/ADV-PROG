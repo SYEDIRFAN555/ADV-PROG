{
  "nbformat": 4,
  "nbformat_minor": 0,
  "metadata": {
    "kernelspec": {
      "display_name": "Python 3",
      "language": "python",
      "name": "python3"
    },
    "language_info": {
      "codemirror_mode": {
        "name": "ipython",
        "version": 3
      },
      "file_extension": ".py",
      "mimetype": "text/x-python",
      "name": "python",
      "nbconvert_exporter": "python",
      "pygments_lexer": "ipython3",
      "version": "3.7.6"
    },
    "colab": {
      "name": "Day 4(29-05-2020).ipynb",
      "provenance": [],
      "include_colab_link": true
    }
  },
  "cells": [
    {
      "cell_type": "markdown",
      "metadata": {
        "id": "view-in-github",
        "colab_type": "text"
      },
      "source": [
        "<a href=\"https://colab.research.google.com/github/SYEDIRFAN555/ADV-PROG/blob/master/Day_4(29_05_2020).ipynb\" target=\"_parent\"><img src=\"https://colab.research.google.com/assets/colab-badge.svg\" alt=\"Open In Colab\"/></a>"
      ]
    },
    {
      "cell_type": "code",
      "metadata": {
        "id": "HwY9vFC5XkWY",
        "colab_type": "code",
        "colab": {},
        "outputId": "40419dfc-6483-4e6d-edb6-aca525d6de45"
      },
      "source": [
        "#Loop control statements : break,continue\n",
        "for i in range (1,11):\n",
        "    if i % 5==0:\n",
        "        break\n",
        "    else:\n",
        "            print(i)\n",
        "        "
      ],
      "execution_count": 0,
      "outputs": [
        {
          "output_type": "stream",
          "text": [
            "1\n",
            "2\n",
            "3\n",
            "4\n"
          ],
          "name": "stdout"
        }
      ]
    },
    {
      "cell_type": "code",
      "metadata": {
        "id": "7nQuHacQXkWk",
        "colab_type": "code",
        "colab": {},
        "outputId": "4ae4800d-66c8-4de6-9e9a-e0927c4abd58"
      },
      "source": [
        "for i in range (1,11):\n",
        "    if i % 5== 0:\n",
        "        continue\n",
        "    else:\n",
        "            print(i)"
      ],
      "execution_count": 0,
      "outputs": [
        {
          "output_type": "stream",
          "text": [
            "1\n",
            "2\n",
            "3\n",
            "4\n",
            "6\n",
            "7\n",
            "8\n",
            "9\n"
          ],
          "name": "stdout"
        }
      ]
    },
    {
      "cell_type": "code",
      "metadata": {
        "id": "k4MnY0nFXkWu",
        "colab_type": "code",
        "colab": {},
        "outputId": "4afe66da-4e18-4897-b358-4b9bc0886b52"
      },
      "source": [
        "# username : python\n",
        "# password : jay123\n",
        "while True:\n",
        "    user = input(\"enter your name: \")\n",
        "    if user == \"python\":\n",
        "        pwd = input(\"enter your password: \")\n",
        "        if pwd == \"jay123\":\n",
        "            print(\"login success!!\")\n",
        "            break\n",
        "    else:\n",
        "        continue"
      ],
      "execution_count": 0,
      "outputs": [
        {
          "output_type": "stream",
          "text": [
            "enter your name: jay\n",
            "enter your name: python\n",
            "enter your password: mallika\n",
            "enter your name: python\n",
            "enter your password: jay123\n",
            "login success!!\n"
          ],
          "name": "stdout"
        }
      ]
    },
    {
      "cell_type": "code",
      "metadata": {
        "id": "wfj-DAAXXkW1",
        "colab_type": "code",
        "colab": {}
      },
      "source": [
        "#pass -->for creating empty blocks\n",
        "if 12 < 34:\n",
        "    pass\n",
        "else:\n",
        "    print(\"else\")"
      ],
      "execution_count": 0,
      "outputs": []
    },
    {
      "cell_type": "markdown",
      "metadata": {
        "id": "Ou4UhO7hXkW7",
        "colab_type": "text"
      },
      "source": [
        "## Function\n",
        "block of statements\n",
        "1. predefined(which are already)\n",
        "   - len(),print(),input(),min(),max()\n",
        "2. user- defined(custom function)"
      ]
    },
    {
      "cell_type": "code",
      "metadata": {
        "id": "5teEtSKUXkW9",
        "colab_type": "code",
        "colab": {},
        "outputId": "cc888457-b598-43a9-dc13-ec001621e100"
      },
      "source": [
        "def name(username):\n",
        "    print(\"hello\",username)\n",
        "    \n",
        "name(\"39\")#Function calling    "
      ],
      "execution_count": 0,
      "outputs": [
        {
          "output_type": "stream",
          "text": [
            "hello 39\n"
          ],
          "name": "stdout"
        }
      ]
    },
    {
      "cell_type": "code",
      "metadata": {
        "id": "tuZS579KXkXE",
        "colab_type": "code",
        "colab": {},
        "outputId": "e7554f04-319f-4111-ebdf-772e3cd2fbcb"
      },
      "source": [
        "def addition(a,b):\n",
        "    return a+b\n",
        "\n",
        "addition(10,20)"
      ],
      "execution_count": 0,
      "outputs": [
        {
          "output_type": "execute_result",
          "data": {
            "text/plain": [
              "30"
            ]
          },
          "metadata": {
            "tags": []
          },
          "execution_count": 16
        }
      ]
    },
    {
      "cell_type": "code",
      "metadata": {
        "id": "wIWR8qjIXkXM",
        "colab_type": "code",
        "colab": {},
        "outputId": "f98e0512-42a3-4c8d-c8b2-55bacc73f5fc"
      },
      "source": [
        ""
      ],
      "execution_count": 0,
      "outputs": [
        {
          "output_type": "stream",
          "text": [
            "30\n",
            "300\n",
            "3000\n"
          ],
          "name": "stdout"
        }
      ]
    },
    {
      "cell_type": "code",
      "metadata": {
        "id": "bEdZX9sYXkXW",
        "colab_type": "code",
        "colab": {},
        "outputId": "ffe734e1-e436-46da-d78e-cd14a71b219a"
      },
      "source": [
        "def addition(a,b):\n",
        "    return a+b,a-b,a*b,a/b\n",
        "\n",
        "print(addition(10,20))def addition(a,b):\n",
        "    return a+b\n",
        "\n",
        "print(addition(10,20))\n",
        "print(addition(100,200))\n",
        "print(addition(1000,2000))\n",
        "print(addition(100,200))\n",
        "print(addition(1000,2000))"
      ],
      "execution_count": 0,
      "outputs": [
        {
          "output_type": "stream",
          "text": [
            "(30, -10, 200, 0.5)\n",
            "(300, -100, 20000, 0.5)\n",
            "(3000, -1000, 2000000, 0.5)\n"
          ],
          "name": "stdout"
        }
      ]
    },
    {
      "cell_type": "code",
      "metadata": {
        "id": "oeTn0gAVXkXd",
        "colab_type": "code",
        "colab": {}
      },
      "source": [
        ""
      ],
      "execution_count": 0,
      "outputs": []
    },
    {
      "cell_type": "code",
      "metadata": {
        "id": "srpPes_jXkXj",
        "colab_type": "code",
        "colab": {},
        "outputId": "6b4d070b-1144-4eac-e896-73ae28270e04"
      },
      "source": [
        "#Multiple return values\n",
        "def arithmetic(a,b):\n",
        "    return a+b,a-b,a*b,a/b\n",
        "\n",
        "#Unpacking\n",
        "add,sub,mul,div = arithmetic(10,20)\n",
        "print(sub)"
      ],
      "execution_count": 0,
      "outputs": [
        {
          "output_type": "stream",
          "text": [
            "-10\n"
          ],
          "name": "stdout"
        }
      ]
    },
    {
      "cell_type": "markdown",
      "metadata": {
        "id": "Knrkmd9aXkXp",
        "colab_type": "text"
      },
      "source": [
        "### Different types of Arguments\n",
        "1. Required positional argument\n",
        "2. Default argument\n",
        "3. keyword argument\n",
        "4. variable length argument"
      ]
    },
    {
      "cell_type": "code",
      "metadata": {
        "id": "5LQ5RpBhXkXr",
        "colab_type": "code",
        "colab": {},
        "outputId": "fae6820d-3f9b-43f3-ea51-12741401a8ff"
      },
      "source": [
        "def add(a,b):\n",
        "    return(a+b)\n",
        "add(10,20)\n",
        "#add(10,20,30)"
      ],
      "execution_count": 0,
      "outputs": [
        {
          "output_type": "execute_result",
          "data": {
            "text/plain": [
              "30"
            ]
          },
          "metadata": {
            "tags": []
          },
          "execution_count": 27
        }
      ]
    },
    {
      "cell_type": "code",
      "metadata": {
        "id": "1xoWVQmmXkXx",
        "colab_type": "code",
        "colab": {},
        "outputId": "44a2e63a-0479-4d6e-9c01-71b612ba98c8"
      },
      "source": [
        "#default argument\n",
        "#default arg should be at the end of arg\n",
        "def add(a,b=100):\n",
        "    return a+b\n",
        "\n",
        "add(100)"
      ],
      "execution_count": 0,
      "outputs": [
        {
          "output_type": "execute_result",
          "data": {
            "text/plain": [
              "200"
            ]
          },
          "metadata": {
            "tags": []
          },
          "execution_count": 28
        }
      ]
    },
    {
      "cell_type": "code",
      "metadata": {
        "id": "YR4BQ3COXkX4",
        "colab_type": "code",
        "colab": {},
        "outputId": "dca87778-637e-4aa9-c674-6cc52f950fb3"
      },
      "source": [
        "def add(a,b=100):\n",
        "    return a+b\n",
        "\n",
        "print(add(100))\n",
        "print(add(200,200))\n",
        "print(add(2000,2000))"
      ],
      "execution_count": 0,
      "outputs": [
        {
          "output_type": "stream",
          "text": [
            "200\n",
            "400\n",
            "4000\n"
          ],
          "name": "stdout"
        }
      ]
    },
    {
      "cell_type": "code",
      "metadata": {
        "id": "6FzcVDgKXkX-",
        "colab_type": "code",
        "colab": {},
        "outputId": "ee0c2118-944d-4f4b-dcc0-889ea9227269"
      },
      "source": [
        "#keyword arguments:\n",
        "def add(a,b):\n",
        "    print(\"a value:\",a)\n",
        "    print(\"b value:\",b)\n",
        "    return(a+b)\n",
        "add(b = 10,a = 20)"
      ],
      "execution_count": 0,
      "outputs": [
        {
          "output_type": "stream",
          "text": [
            "a value: 10\n",
            "b value: 20\n"
          ],
          "name": "stdout"
        },
        {
          "output_type": "execute_result",
          "data": {
            "text/plain": [
              "30"
            ]
          },
          "metadata": {
            "tags": []
          },
          "execution_count": 33
        }
      ]
    },
    {
      "cell_type": "code",
      "metadata": {
        "id": "Y6n6TQlXXkYE",
        "colab_type": "code",
        "colab": {},
        "outputId": "49a1c4ea-3456-48b2-fb74-ab3c92728520"
      },
      "source": [
        "a=int(input(\"enter a value\"))\n",
        "b=int(input(\"enter b value\"))\n",
        "add(a,b)"
      ],
      "execution_count": 0,
      "outputs": [
        {
          "output_type": "stream",
          "text": [
            "enter a value39\n",
            "enter b value42\n",
            "a value: 39\n",
            "b value: 42\n"
          ],
          "name": "stdout"
        },
        {
          "output_type": "execute_result",
          "data": {
            "text/plain": [
              "81"
            ]
          },
          "metadata": {
            "tags": []
          },
          "execution_count": 34
        }
      ]
    },
    {
      "cell_type": "code",
      "metadata": {
        "id": "JHFqHbK9XkYL",
        "colab_type": "code",
        "colab": {},
        "outputId": "adc7a671-c8ff-42f6-e00e-3b31c1709120"
      },
      "source": [
        "#variable length arguments\n",
        "#(120,230,34,450,460)-->Tuple\n",
        "def add(*a):\n",
        "    \n",
        "    return sum(a)\n",
        "\n",
        "print(add(10,20))\n",
        "print(add(100,200,300))\n",
        "print(add(1000,2000,3000,4000))"
      ],
      "execution_count": 0,
      "outputs": [
        {
          "output_type": "stream",
          "text": [
            "30\n",
            "600\n",
            "10000\n"
          ],
          "name": "stdout"
        }
      ]
    },
    {
      "cell_type": "code",
      "metadata": {
        "id": "dGkph1bjXkYR",
        "colab_type": "code",
        "colab": {},
        "outputId": "f2b560f2-7ce0-4350-aa1c-3b8e30a58b05"
      },
      "source": [
        "#variable length arguments\n",
        "#(120,230,34,450,460)-->Tuple\n",
        "def add(*a):\n",
        "    \n",
        "    m = 1\n",
        "    for i in a:\n",
        "        m = m*i\n",
        "    return m    \n",
        "\n",
        "print(add(10,20))\n",
        "print(add(100,200,300))\n",
        "print(add(1000,2000,3000,4000))"
      ],
      "execution_count": 0,
      "outputs": [
        {
          "output_type": "stream",
          "text": [
            "200\n",
            "6000000\n",
            "24000000000000\n"
          ],
          "name": "stdout"
        }
      ]
    },
    {
      "cell_type": "code",
      "metadata": {
        "id": "F4ceuWoKXkYW",
        "colab_type": "code",
        "colab": {},
        "outputId": "4a8ec2e7-763f-4059-eaaa-f4b5398ed44e"
      },
      "source": [
        "#Nested Functions : square,cube\n",
        "def square(a):\n",
        "    return a*a\n",
        "\n",
        "def cube(x):\n",
        "    return square(x)*x\n",
        "    \n",
        "print(square(10))    \n",
        "print(cube(10))\n",
        "print(cube(100))"
      ],
      "execution_count": 0,
      "outputs": [
        {
          "output_type": "stream",
          "text": [
            "100\n",
            "1000\n",
            "1000000\n"
          ],
          "name": "stdout"
        }
      ]
    },
    {
      "cell_type": "markdown",
      "metadata": {
        "id": "kMtwVd5aXkYd",
        "colab_type": "text"
      },
      "source": [
        "### Recursive Functions: \n",
        "1. Factorial of a number\n",
        "2. Fibonacci series"
      ]
    },
    {
      "cell_type": "markdown",
      "metadata": {
        "id": "pgo9HLfUXkYe",
        "colab_type": "text"
      },
      "source": [
        "### Data Structures:\n",
        "1. List :\n",
        "    - [] elements seperated by ,\n",
        "    - indexed\n",
        "    - oredered-Duplicate values\n",
        "    - Mutable\n",
        "    - Any type of values"
      ]
    },
    {
      "cell_type": "code",
      "metadata": {
        "id": "NYJxbDvLXkYh",
        "colab_type": "code",
        "colab": {},
        "outputId": "b08992f7-cb5d-47a6-fce7-a47f4154f08c"
      },
      "source": [
        "list1 = [12,23,45,True,\"abc\",12]\n",
        "print(type(list1))"
      ],
      "execution_count": 0,
      "outputs": [
        {
          "output_type": "stream",
          "text": [
            "<class 'list'>\n"
          ],
          "name": "stdout"
        }
      ]
    },
    {
      "cell_type": "code",
      "metadata": {
        "id": "0qImSIrZXkYn",
        "colab_type": "code",
        "colab": {},
        "outputId": "9bad0a9d-beb6-4615-fa10-60af0418dfcb"
      },
      "source": [
        "#operators supported by list : +,*,[],[:],in,not in\n",
        "list1 = [1,2,3]\n",
        "list2 = [10,20,30]\n",
        "print(list1+list2)\n",
        "print(list1*3)\n",
        "print(list1[1]) #2\n",
        "print(list1[1:3]) #[1,2]\n",
        "print(2 in list1) # True\n",
        "print(200 in list1) #False\n"
      ],
      "execution_count": 0,
      "outputs": [
        {
          "output_type": "stream",
          "text": [
            "[1, 2, 3, 10, 20, 30]\n",
            "[1, 2, 3, 1, 2, 3, 1, 2, 3]\n",
            "2\n",
            "[2, 3]\n",
            "True\n",
            "False\n"
          ],
          "name": "stdout"
        }
      ]
    },
    {
      "cell_type": "code",
      "metadata": {
        "id": "brvY_W_uXkYt",
        "colab_type": "code",
        "colab": {},
        "outputId": "da38fadc-3651-4870-ab13-ab68cb537774"
      },
      "source": [
        "#Built-in functions:Len(),min(),max(),List()\n",
        "list1 = [1,2,3,40]\n",
        "s1 = \"python\"\n",
        "print(len(list1))\n",
        "print(min(list1))\n",
        "print(max(list1))\n",
        "list2 = list(s1)\n",
        "print(list2)\n",
        "list1[-1] =100\n",
        "print(list1)"
      ],
      "execution_count": 0,
      "outputs": [
        {
          "output_type": "stream",
          "text": [
            "4\n",
            "1\n",
            "40\n",
            "['p', 'y', 't', 'h', 'o', 'n']\n",
            "[1, 2, 3, 100]\n"
          ],
          "name": "stdout"
        }
      ]
    },
    {
      "cell_type": "code",
      "metadata": {
        "id": "f6rMOvcaXkYz",
        "colab_type": "code",
        "colab": {}
      },
      "source": [
        ""
      ],
      "execution_count": 0,
      "outputs": []
    }
  ]
}