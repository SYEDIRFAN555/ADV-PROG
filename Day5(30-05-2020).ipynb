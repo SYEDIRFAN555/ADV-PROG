{
 "cells": [
  {
   "cell_type": "code",
   "execution_count": 1,
   "metadata": {},
   "outputs": [
    {
     "name": "stdout",
     "output_type": "stream",
     "text": [
      "enter a number22\n",
      "Adam number\n"
     ]
    }
   ],
   "source": [
    "#Adam Nunmber:\n",
    "n = int(input(\"enter a number\"))#12\n",
    "if int(str(n**2)[::-1]) == int(str(n)[::-1])**2:\n",
    "    print(\"Adam number\")\n",
    "else:\n",
    "    print(\"Not an Adam Number\")"
   ]
  },
  {
   "cell_type": "code",
   "execution_count": 2,
   "metadata": {},
   "outputs": [
    {
     "name": "stdout",
     "output_type": "stream",
     "text": [
      "enter a number11\n",
      "Adam number\n"
     ]
    }
   ],
   "source": [
    "#Conditional operator :[on True] if [condition] else [On False]\n",
    "n = int(input(\"enter a number\"))#12\n",
    "print(\"Adam number\") if int(str(n**2)[::-1]) == int(str(n)[::-1])**2 else print(\"Not an Adam Number\")"
   ]
  },
  {
   "cell_type": "code",
   "execution_count": 3,
   "metadata": {},
   "outputs": [
    {
     "data": {
      "text/plain": [
       "120"
      ]
     },
     "execution_count": 3,
     "metadata": {},
     "output_type": "execute_result"
    }
   ],
   "source": [
    "# factorial using recursive function\n",
    "def factorial(n):\n",
    "  if(n == 0):\n",
    "    return 1\n",
    "  else:\n",
    "    return n*factorial(n-1)\n",
    "factorial(5)"
   ]
  },
  {
   "cell_type": "code",
   "execution_count": 4,
   "metadata": {},
   "outputs": [
    {
     "name": "stdout",
     "output_type": "stream",
     "text": [
      "1\n",
      "10\n",
      "1 2 3 4 5 6 7 8 9 10 "
     ]
    }
   ],
   "source": [
    "#Lower bound and Upper bound\n",
    "def display(lb,ub):\n",
    "    if lb > ub:\n",
    "        return\n",
    "    else:\n",
    "        print(lb,end=\" \")\n",
    "        display(lb+1,ub)\n",
    "        \n",
    "lb = int(input())\n",
    "ub = int(input())\n",
    "display(lb,ub)"
   ]
  },
  {
   "cell_type": "code",
   "execution_count": 5,
   "metadata": {},
   "outputs": [
    {
     "name": "stdout",
     "output_type": "stream",
     "text": [
      "39\n",
      "42\n",
      "39 40 41 42 "
     ]
    }
   ],
   "source": [
    "#Lower bound and Upper bound\n",
    "def display(lb,ub):\n",
    "    if lb > ub:\n",
    "        return\n",
    "    else:\n",
    "        print(lb,end=\" \")\n",
    "        display(lb+1,ub)\n",
    "        \n",
    "lb = int(input())\n",
    "ub = int(input())\n",
    "display(lb,ub)"
   ]
  },
  {
   "cell_type": "code",
   "execution_count": 6,
   "metadata": {},
   "outputs": [
    {
     "name": "stdout",
     "output_type": "stream",
     "text": [
      "34\n",
      "0.0009996891021728516\n"
     ]
    }
   ],
   "source": [
    "#fibonacci series:0,1,1,2,3,5,8,13,21,34........\n",
    "import time\n",
    "def recur_fibo(n):\n",
    "    if n == 1:\n",
    "        return 0\n",
    "    elif n == 2:\n",
    "        return 1\n",
    "    else:\n",
    "        return recur_fibo(n-1)+recur_fibo(n-2)\n",
    "prev = time.time()    \n",
    "print(recur_fibo(10))\n",
    "print(time.time()-prev)"
   ]
  },
  {
   "cell_type": "code",
   "execution_count": 16,
   "metadata": {},
   "outputs": [
    {
     "name": "stdout",
     "output_type": "stream",
     "text": [
      "[1, 2, 3, 4, 5, 6]\n",
      "[1, 2, 3, 4, 5, 6, 7]\n"
     ]
    }
   ],
   "source": [
    "#append()\n",
    "list1=[1,2,3,4,5]\n",
    "list1.append(6)\n",
    "print(list1)\n",
    "list1.append(7)\n",
    "print(list1)"
   ]
  },
  {
   "cell_type": "code",
   "execution_count": 17,
   "metadata": {},
   "outputs": [
    {
     "name": "stdout",
     "output_type": "stream",
     "text": [
      "[1, 2, 100, 3, 4, 5, 6, 7]\n"
     ]
    }
   ],
   "source": [
    "#insert() --> inserts an element at the given position\n",
    "list1.insert(2,100)\n",
    "print(list1)"
   ]
  },
  {
   "cell_type": "code",
   "execution_count": 20,
   "metadata": {},
   "outputs": [
    {
     "name": "stdout",
     "output_type": "stream",
     "text": [
      "[1, 2, 100, 3, 4, 5, 6, 7, 8, 9, 10, 8, 9, 10, 8, 9, 10]\n"
     ]
    }
   ],
   "source": [
    "#extend : inserting multiple values\n",
    "list1.extend([8,9,10])\n",
    "print(list1)"
   ]
  },
  {
   "cell_type": "code",
   "execution_count": 23,
   "metadata": {},
   "outputs": [
    {
     "name": "stdout",
     "output_type": "stream",
     "text": [
      "[1, 2, 3, 5, 6, 7, 8, 10, 8, 9, 10, 8, 9, 10]\n"
     ]
    }
   ],
   "source": [
    "#pop()\n",
    "list1.pop(3)\n",
    "print(list1)"
   ]
  },
  {
   "cell_type": "code",
   "execution_count": 22,
   "metadata": {},
   "outputs": [
    {
     "name": "stdout",
     "output_type": "stream",
     "text": [
      "[1, 2, 3, 4, 5, 6, 7, 8, 10, 8, 9, 10, 8, 9, 10]\n"
     ]
    }
   ],
   "source": [
    "#remove()\n",
    "list1.remove(9)\n",
    "print(list1)"
   ]
  },
  {
   "cell_type": "code",
   "execution_count": 24,
   "metadata": {},
   "outputs": [
    {
     "data": {
      "text/plain": [
       "[]"
      ]
     },
     "execution_count": 24,
     "metadata": {},
     "output_type": "execute_result"
    }
   ],
   "source": [
    "#clear()\n",
    "list1.clear()\n",
    "list1"
   ]
  },
  {
   "cell_type": "code",
   "execution_count": 25,
   "metadata": {},
   "outputs": [
    {
     "name": "stdout",
     "output_type": "stream",
     "text": [
      "1\n",
      "2\n"
     ]
    }
   ],
   "source": [
    "#index()\n",
    "list1 = [23,34,45,56,76,68,79,78,76]\n",
    "print(list1.index(34))\n",
    "print(list1.count(76))"
   ]
  },
  {
   "cell_type": "code",
   "execution_count": 26,
   "metadata": {},
   "outputs": [
    {
     "name": "stdout",
     "output_type": "stream",
     "text": [
      "[23, 34, 45, 56, 68, 76, 76, 78, 79]\n"
     ]
    }
   ],
   "source": [
    "#sort()\n",
    "list1.sort()\n",
    "print(list1)\n"
   ]
  },
  {
   "cell_type": "code",
   "execution_count": 27,
   "metadata": {},
   "outputs": [
    {
     "name": "stdout",
     "output_type": "stream",
     "text": [
      "[79, 78, 76, 76, 68, 56, 45, 34, 23]\n",
      "[23, 34, 45, 56, 68, 76, 76, 78, 79]\n"
     ]
    }
   ],
   "source": [
    "#descending order\n",
    "list1.sort(reverse=True)\n",
    "print(list1)\n",
    "#ascending order\n",
    "list1.sort(reverse=False)\n",
    "print(list1)"
   ]
  },
  {
   "cell_type": "code",
   "execution_count": 28,
   "metadata": {},
   "outputs": [
    {
     "name": "stdout",
     "output_type": "stream",
     "text": [
      "[79, 78, 76, 76, 68, 56, 45, 34, 23]\n"
     ]
    }
   ],
   "source": [
    "#reverse\n",
    "list1.reverse()\n",
    "print(list1)"
   ]
  },
  {
   "cell_type": "code",
   "execution_count": 29,
   "metadata": {},
   "outputs": [
    {
     "name": "stdout",
     "output_type": "stream",
     "text": [
      "[1, 2, 3, 4, 5]\n",
      "[1, 2, 3, 4, 5]\n",
      "[1, 2, 3, 4, 5, 6, 7] [1, 2, 3, 4, 5, 6, 7] [1, 2, 3, 4, 5]\n"
     ]
    }
   ],
   "source": [
    "#copy()\n",
    "list1=[1,2,3,4,5]\n",
    "list2=[]\n",
    "list3=[]\n",
    "list2=list1\n",
    "print(list2)\n",
    "list3=list1.copy()\n",
    "print(list3)\n",
    "list1.append(6)\n",
    "list1.append(7)\n",
    "print(list1,list2,list3)"
   ]
  },
  {
   "cell_type": "code",
   "execution_count": 30,
   "metadata": {},
   "outputs": [],
   "source": [
    "#writing\n",
    "f = open(\"sample.txt\",\"w\")\n",
    "f.write(\"hello everyone!!!!\")\n",
    "f.close()"
   ]
  },
  {
   "cell_type": "code",
   "execution_count": 31,
   "metadata": {},
   "outputs": [
    {
     "name": "stdout",
     "output_type": "stream",
     "text": [
      "hello everyone!!!!\n"
     ]
    }
   ],
   "source": [
    "#reading\n",
    "f = open(\"sample.txt\",\"r\")\n",
    "data = f.read()\n",
    "print(data)\n",
    "f.close()"
   ]
  },
  {
   "cell_type": "code",
   "execution_count": 34,
   "metadata": {},
   "outputs": [],
   "source": [
    "#appending\n",
    "f = open(\"sample.txt\",\"a\")\n",
    "s = '''How are doing all??\n",
    "stay home'''\n",
    "f.write(s)\n",
    "f.close()"
   ]
  },
  {
   "cell_type": "code",
   "execution_count": 35,
   "metadata": {},
   "outputs": [
    {
     "name": "stdout",
     "output_type": "stream",
     "text": [
      "hello everyone!!!!How are doing all??\n",
      "stay home\n"
     ]
    }
   ],
   "source": [
    "#reading\n",
    "f = open(\"sample.txt\",\"r\")\n",
    "data = f.read()\n",
    "print(data)\n",
    "f.close()"
   ]
  },
  {
   "cell_type": "code",
   "execution_count": null,
   "metadata": {},
   "outputs": [],
   "source": []
  }
 ],
 "metadata": {
  "kernelspec": {
   "display_name": "Python 3",
   "language": "python",
   "name": "python3"
  },
  "language_info": {
   "codemirror_mode": {
    "name": "ipython",
    "version": 3
   },
   "file_extension": ".py",
   "mimetype": "text/x-python",
   "name": "python",
   "nbconvert_exporter": "python",
   "pygments_lexer": "ipython3",
   "version": "3.7.6"
  }
 },
 "nbformat": 4,
 "nbformat_minor": 4
}
