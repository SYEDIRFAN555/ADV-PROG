{
  "nbformat": 4,
  "nbformat_minor": 0,
  "metadata": {
    "kernelspec": {
      "display_name": "Python 3",
      "language": "python",
      "name": "python3"
    },
    "language_info": {
      "codemirror_mode": {
        "name": "ipython",
        "version": 3
      },
      "file_extension": ".py",
      "mimetype": "text/x-python",
      "name": "python",
      "nbconvert_exporter": "python",
      "pygments_lexer": "ipython3",
      "version": "3.7.6"
    },
    "colab": {
      "name": "DAY6(01-06-2020)..ipynb",
      "provenance": [],
      "include_colab_link": true
    }
  },
  "cells": [
    {
      "cell_type": "markdown",
      "metadata": {
        "id": "view-in-github",
        "colab_type": "text"
      },
      "source": [
        "<a href=\"https://colab.research.google.com/github/SYEDIRFAN555/ADV-PROG/blob/master/DAY6(01_06_2020)_.ipynb\" target=\"_parent\"><img src=\"https://colab.research.google.com/assets/colab-badge.svg\" alt=\"Open In Colab\"/></a>"
      ]
    },
    {
      "cell_type": "markdown",
      "metadata": {
        "id": "EexmxXmtY_Ko",
        "colab_type": "text"
      },
      "source": [
        "## TUPLE\n",
        "1.immutable 2.creating using ( ) elements are seperated by , 3.Indexed,ordered"
      ]
    },
    {
      "cell_type": "code",
      "metadata": {
        "id": "8S00ExziY_Kq",
        "colab_type": "code",
        "colab": {},
        "outputId": "b4e94629-6baa-4d71-cb19-ea15ec8a7231"
      },
      "source": [
        "#Tuple\n",
        "tup1=(12,3,345.56,\"abc\",True)\n",
        "print(type(tup1))"
      ],
      "execution_count": 0,
      "outputs": [
        {
          "output_type": "stream",
          "text": [
            "<class 'tuple'>\n"
          ],
          "name": "stdout"
        }
      ]
    },
    {
      "cell_type": "code",
      "metadata": {
        "id": "Kpubj8P8Y_K1",
        "colab_type": "code",
        "colab": {},
        "outputId": "0d2f96f9-e769-4de0-d8b7-f3c94a634edb"
      },
      "source": [
        "print(tup1[2])\n",
        "print(tup1[-1])"
      ],
      "execution_count": 0,
      "outputs": [
        {
          "output_type": "stream",
          "text": [
            "345.56\n",
            "True\n"
          ],
          "name": "stdout"
        }
      ]
    },
    {
      "cell_type": "code",
      "metadata": {
        "id": "KCmHooJBY_K8",
        "colab_type": "code",
        "colab": {},
        "outputId": "4d857f92-cc54-4474-a50c-9089dac174b4"
      },
      "source": [
        "#convert tuple to list\n",
        "list1 = list(tup1)\n",
        "list1[2] = 100\n",
        "tup1 = tuple(list1)\n",
        "tup1"
      ],
      "execution_count": 0,
      "outputs": [
        {
          "output_type": "execute_result",
          "data": {
            "text/plain": [
              "(12, 3, 100, 'abc', True)"
            ]
          },
          "metadata": {
            "tags": []
          },
          "execution_count": 3
        }
      ]
    },
    {
      "cell_type": "markdown",
      "metadata": {
        "id": "lLVmkdKwY_LE",
        "colab_type": "text"
      },
      "source": [
        "### Built_in methods:\n",
        "1.count() 2.index()"
      ]
    },
    {
      "cell_type": "code",
      "metadata": {
        "id": "QiNc5gWyY_LF",
        "colab_type": "code",
        "colab": {},
        "outputId": "ec057713-ff9c-4a33-91cf-b08b4088919f"
      },
      "source": [
        "print(tup1.count(12))\n",
        "print(tup1.index(12))"
      ],
      "execution_count": 0,
      "outputs": [
        {
          "output_type": "stream",
          "text": [
            "1\n",
            "0\n"
          ],
          "name": "stdout"
        }
      ]
    },
    {
      "cell_type": "code",
      "metadata": {
        "id": "WbysrSdWY_LN",
        "colab_type": "code",
        "colab": {},
        "outputId": "3214c929-9acc-407f-b942-4af9fa4204fe"
      },
      "source": [
        "#unpacking\n",
        "tup2 = (12,232,4,354)\n",
        "a,b,c,d = tup2\n",
        "print(a,b,c,d)"
      ],
      "execution_count": 0,
      "outputs": [
        {
          "output_type": "stream",
          "text": [
            "12 232 4 354\n"
          ],
          "name": "stdout"
        }
      ]
    },
    {
      "cell_type": "code",
      "metadata": {
        "id": "7i2g2CqDY_LU",
        "colab_type": "code",
        "colab": {},
        "outputId": "315ddf2f-c935-476c-9f58-daedc5621c91"
      },
      "source": [
        "#packing\n",
        "X=10,20,30\n",
        "print(type(X))\n",
        "print(X)"
      ],
      "execution_count": 0,
      "outputs": [
        {
          "output_type": "stream",
          "text": [
            "<class 'tuple'>\n",
            "(10, 20, 30)\n"
          ],
          "name": "stdout"
        }
      ]
    },
    {
      "cell_type": "code",
      "metadata": {
        "id": "tmoNllpJY_La",
        "colab_type": "code",
        "colab": {},
        "outputId": "3bcc43be-8afe-4d93-a0ed-5210b165e5f0"
      },
      "source": [
        "#Tuple with single element\n",
        "y=(10,)\n",
        "print(type(y))"
      ],
      "execution_count": 0,
      "outputs": [
        {
          "output_type": "stream",
          "text": [
            "<class 'tuple'>\n"
          ],
          "name": "stdout"
        }
      ]
    },
    {
      "cell_type": "code",
      "metadata": {
        "id": "8TfbhAxjY_Li",
        "colab_type": "code",
        "colab": {},
        "outputId": "d1b1044d-062c-49cb-c380-d7f60168a0a9"
      },
      "source": [
        "#Iterating through tuple\n",
        "for ele in X:\n",
        "    print(ele,end=\" \")"
      ],
      "execution_count": 0,
      "outputs": [
        {
          "output_type": "stream",
          "text": [
            "10 20 30 "
          ],
          "name": "stdout"
        }
      ]
    },
    {
      "cell_type": "markdown",
      "metadata": {
        "id": "1DU-1xBBY_Lp",
        "colab_type": "text"
      },
      "source": [
        "## Set:\n",
        "1.{} 2.does not allow duplicate values 3.not ordered 4.unindexed 5.mutable"
      ]
    },
    {
      "cell_type": "code",
      "metadata": {
        "id": "4gd_r-oFY_Lq",
        "colab_type": "code",
        "colab": {},
        "outputId": "6b9d61d2-a489-48b8-fc87-aeeb14035a1e"
      },
      "source": [
        "set1={1,2,334,45,5,6,2,1}\n",
        "print(set1)"
      ],
      "execution_count": 0,
      "outputs": [
        {
          "output_type": "stream",
          "text": [
            "{1, 2, 5, 6, 45, 334}\n"
          ],
          "name": "stdout"
        }
      ]
    },
    {
      "cell_type": "code",
      "metadata": {
        "id": "_w4GEAhsY_Lw",
        "colab_type": "code",
        "colab": {},
        "outputId": "7e29137a-0716-4dbb-ff7e-a2e7dfbf7100"
      },
      "source": [
        "for ele in set1:\n",
        "    print(ele)"
      ],
      "execution_count": 0,
      "outputs": [
        {
          "output_type": "stream",
          "text": [
            "1\n",
            "2\n",
            "5\n",
            "6\n",
            "45\n",
            "334\n"
          ],
          "name": "stdout"
        }
      ]
    },
    {
      "cell_type": "markdown",
      "metadata": {
        "id": "SPdnEMUdY_L2",
        "colab_type": "text"
      },
      "source": [
        "## Built_in functions:\n",
        "1.len() 2.min() 3.max() 4.set()"
      ]
    },
    {
      "cell_type": "code",
      "metadata": {
        "id": "KQWL3ketY_L4",
        "colab_type": "code",
        "colab": {},
        "outputId": "6521e086-6ed0-4730-c17c-225e795d07ac"
      },
      "source": [
        "print(set1)\n",
        "print(len(set1))\n",
        "print(min(set1))\n",
        "print(max(set1))"
      ],
      "execution_count": 0,
      "outputs": [
        {
          "output_type": "stream",
          "text": [
            "{1, 2, 5, 6, 45, 334}\n",
            "6\n",
            "1\n",
            "334\n"
          ],
          "name": "stdout"
        }
      ]
    },
    {
      "cell_type": "code",
      "metadata": {
        "id": "sn3eyep5Y_ME",
        "colab_type": "code",
        "colab": {},
        "outputId": "850edd2b-8353-4d5c-e660-a09e18b06aa3"
      },
      "source": [
        "#Removing duplicates from the list\n",
        "list1=[1,2,3,4,5,1,2,3]\n",
        "list1=set(list1)\n",
        "list1"
      ],
      "execution_count": 0,
      "outputs": [
        {
          "output_type": "execute_result",
          "data": {
            "text/plain": [
              "{1, 2, 3, 4, 5}"
            ]
          },
          "metadata": {
            "tags": []
          },
          "execution_count": 12
        }
      ]
    },
    {
      "cell_type": "markdown",
      "metadata": {
        "id": "MkDHgLw9Y_MK",
        "colab_type": "text"
      },
      "source": [
        "## Built_in methods:\n",
        "### adding an element:\n",
        "1.add()\n",
        "\n",
        "### removing an element:\n",
        "2.pop() 3.remove() 4.discard() 5.clear()"
      ]
    },
    {
      "cell_type": "code",
      "metadata": {
        "id": "P8zfFkZYY_ML",
        "colab_type": "code",
        "colab": {},
        "outputId": "4cd38eed-ca8d-4355-e688-7c4ae0890154"
      },
      "source": [
        "set2 = set()\n",
        "print(type(set2))"
      ],
      "execution_count": 0,
      "outputs": [
        {
          "output_type": "stream",
          "text": [
            "<class 'set'>\n"
          ],
          "name": "stdout"
        }
      ]
    },
    {
      "cell_type": "code",
      "metadata": {
        "id": "Io4_dS-dY_MR",
        "colab_type": "code",
        "colab": {},
        "outputId": "e1399ae3-f758-4dbc-b924-a3206dd067b0"
      },
      "source": [
        "#adding element to the set\n",
        "set2.add(12)\n",
        "set2.add(23)\n",
        "set2.add(100)\n",
        "set2\n"
      ],
      "execution_count": 0,
      "outputs": [
        {
          "output_type": "execute_result",
          "data": {
            "text/plain": [
              "{12, 23, 100}"
            ]
          },
          "metadata": {
            "tags": []
          },
          "execution_count": 14
        }
      ]
    },
    {
      "cell_type": "code",
      "metadata": {
        "id": "iZ5geTqsY_MX",
        "colab_type": "code",
        "colab": {},
        "outputId": "af3a7146-3ff6-4ac2-9b49-ea7eb19592bd"
      },
      "source": [
        "#removing element from the set\n",
        "set2.pop()"
      ],
      "execution_count": 0,
      "outputs": [
        {
          "output_type": "execute_result",
          "data": {
            "text/plain": [
              "23"
            ]
          },
          "metadata": {
            "tags": []
          },
          "execution_count": 19
        }
      ]
    },
    {
      "cell_type": "code",
      "metadata": {
        "id": "PDXuhy4UY_Md",
        "colab_type": "code",
        "colab": {},
        "outputId": "f3e6629a-9ec0-4524-a1fc-d325c8cdb955"
      },
      "source": [
        "set2.remove(12)"
      ],
      "execution_count": 0,
      "outputs": [
        {
          "output_type": "error",
          "ename": "KeyError",
          "evalue": "12",
          "traceback": [
            "\u001b[1;31m---------------------------------------------------------------------------\u001b[0m",
            "\u001b[1;31mKeyError\u001b[0m                                  Traceback (most recent call last)",
            "\u001b[1;32m<ipython-input-18-0a6d8a227192>\u001b[0m in \u001b[0;36m<module>\u001b[1;34m\u001b[0m\n\u001b[1;32m----> 1\u001b[1;33m \u001b[0mset2\u001b[0m\u001b[1;33m.\u001b[0m\u001b[0mremove\u001b[0m\u001b[1;33m(\u001b[0m\u001b[1;36m12\u001b[0m\u001b[1;33m)\u001b[0m\u001b[1;33m\u001b[0m\u001b[1;33m\u001b[0m\u001b[0m\n\u001b[0m",
            "\u001b[1;31mKeyError\u001b[0m: 12"
          ]
        }
      ]
    },
    {
      "cell_type": "code",
      "metadata": {
        "id": "tJUWAOTpY_Mj",
        "colab_type": "code",
        "colab": {}
      },
      "source": [
        "set2.discard(12)"
      ],
      "execution_count": 0,
      "outputs": []
    },
    {
      "cell_type": "code",
      "metadata": {
        "id": "I8m7uHEwY_Mo",
        "colab_type": "code",
        "colab": {},
        "outputId": "2bb7dee3-af4b-4b07-d994-b90c7f7355b0"
      },
      "source": [
        "set2"
      ],
      "execution_count": 0,
      "outputs": [
        {
          "output_type": "execute_result",
          "data": {
            "text/plain": [
              "set()"
            ]
          },
          "metadata": {
            "tags": []
          },
          "execution_count": 29
        }
      ]
    },
    {
      "cell_type": "code",
      "metadata": {
        "id": "6fjbZ8BiY_Mu",
        "colab_type": "code",
        "colab": {},
        "outputId": "1b912aae-7e9e-4ac5-e297-86919f73be72"
      },
      "source": [
        "set2.clear()\n",
        "set2"
      ],
      "execution_count": 0,
      "outputs": [
        {
          "output_type": "execute_result",
          "data": {
            "text/plain": [
              "set()"
            ]
          },
          "metadata": {
            "tags": []
          },
          "execution_count": 30
        }
      ]
    },
    {
      "cell_type": "code",
      "metadata": {
        "id": "QjRg1ZyFY_M0",
        "colab_type": "code",
        "colab": {},
        "outputId": "165a205f-5b4b-4c67-ff79-57a56fda9c7a"
      },
      "source": [
        "#union,difference,intersection\n",
        "A = {1,2,3,4,5}\n",
        "B = {3,4,5,6,7}\n",
        "#union A U B ==>{1,2,3,4,5,6,7}\n",
        "print(A.union(B))\n",
        "\n",
        "#difference(A-B or B-A)\n",
        "print(A.difference(B))\n",
        "print(B.difference(A))\n",
        "\n",
        "#intersection \n",
        "print(A.intersection(B))"
      ],
      "execution_count": 0,
      "outputs": [
        {
          "output_type": "stream",
          "text": [
            "{1, 2, 3, 4, 5, 6, 7}\n",
            "{1, 2}\n",
            "{6, 7}\n",
            "{3, 4, 5}\n"
          ],
          "name": "stdout"
        }
      ]
    },
    {
      "cell_type": "code",
      "metadata": {
        "id": "nIBxfDgxY_M6",
        "colab_type": "code",
        "colab": {},
        "outputId": "a3e335b3-fa19-4273-aedb-17138969794d"
      },
      "source": [
        "#subset,super set\n",
        "C={1,2,3,4,5,6,7,8,9,10}\n",
        "print(A.issubset(C))\n",
        "print(B.issubset(C))\n",
        "print(C.issuperset(A))\n",
        "print(C.issuperset(B))"
      ],
      "execution_count": 0,
      "outputs": [
        {
          "output_type": "stream",
          "text": [
            "True\n",
            "True\n",
            "True\n",
            "True\n"
          ],
          "name": "stdout"
        }
      ]
    },
    {
      "cell_type": "code",
      "metadata": {
        "id": "PmMWAb_zY_NA",
        "colab_type": "code",
        "colab": {},
        "outputId": "89a27c7b-92d5-42a0-c5ea-82d7449fefc4"
      },
      "source": [
        "#disjoint set\n",
        "X={1,2}\n",
        "Y={23,34,45}\n",
        "print(A.isdisjoint(B))\n",
        "print(X.isdisjoint(Y))"
      ],
      "execution_count": 0,
      "outputs": [
        {
          "output_type": "stream",
          "text": [
            "False\n",
            "True\n"
          ],
          "name": "stdout"
        }
      ]
    },
    {
      "cell_type": "code",
      "metadata": {
        "id": "XazVnFdFY_NH",
        "colab_type": "code",
        "colab": {},
        "outputId": "7e854ac5-5537-44a0-eac0-d2459fcafc56"
      },
      "source": [
        "#symmetric difference ==>(A-B U B-A)\n",
        "print(A.symmetric_difference(B))\n",
        "print(A)\n",
        "print(B)"
      ],
      "execution_count": 0,
      "outputs": [
        {
          "output_type": "stream",
          "text": [
            "{1, 2, 6, 7}\n",
            "{1, 2, 3, 4, 5}\n",
            "{3, 4, 5, 6, 7}\n"
          ],
          "name": "stdout"
        }
      ]
    },
    {
      "cell_type": "code",
      "metadata": {
        "id": "4gyN6QWeY_NR",
        "colab_type": "code",
        "colab": {},
        "outputId": "3620470f-9bfa-442e-c813-3b75c4c842a4"
      },
      "source": [
        "A.update(B)#A=A.union B\n",
        "print(A)\n",
        "print(B)"
      ],
      "execution_count": 0,
      "outputs": [
        {
          "output_type": "stream",
          "text": [
            "{1, 2, 3, 4, 5, 6, 7}\n",
            "{3, 4, 5, 6, 7}\n"
          ],
          "name": "stdout"
        }
      ]
    },
    {
      "cell_type": "code",
      "metadata": {
        "id": "umhgZneJY_NX",
        "colab_type": "code",
        "colab": {},
        "outputId": "a2611371-7de4-43bd-f4b2-409c8cd91726"
      },
      "source": [
        "A.intersection_update(B)\n",
        "print(A)\n",
        "print(B)\n"
      ],
      "execution_count": 0,
      "outputs": [
        {
          "output_type": "stream",
          "text": [
            "{3, 4, 5, 6, 7}\n",
            "{3, 4, 5, 6, 7}\n"
          ],
          "name": "stdout"
        }
      ]
    },
    {
      "cell_type": "code",
      "metadata": {
        "id": "cMSytHOkY_Nc",
        "colab_type": "code",
        "colab": {},
        "outputId": "62c3b697-d7b0-4b5a-ff36-d4b038069dcf"
      },
      "source": [
        "A.difference_update(B)\n",
        "print(A)\n",
        "print(B)"
      ],
      "execution_count": 0,
      "outputs": [
        {
          "output_type": "stream",
          "text": [
            "set()\n",
            "{3, 4, 5, 6, 7}\n"
          ],
          "name": "stdout"
        }
      ]
    },
    {
      "cell_type": "code",
      "metadata": {
        "id": "vvrTMQGlY_Nj",
        "colab_type": "code",
        "colab": {},
        "outputId": "24dd3f6b-34d7-4f20-d781-9a0d9d6ac236"
      },
      "source": [
        "A.symmetric_difference_update(B)\n",
        "print(A)\n",
        "print(B)"
      ],
      "execution_count": 0,
      "outputs": [
        {
          "output_type": "stream",
          "text": [
            "{5, 4, 3, 6, 7}\n",
            "{3, 4, 5, 6, 7}\n"
          ],
          "name": "stdout"
        }
      ]
    },
    {
      "cell_type": "code",
      "metadata": {
        "id": "mrteUypzY_No",
        "colab_type": "code",
        "colab": {},
        "outputId": "50b24740-e96f-4d4d-df09-f7c39bfa5a5f"
      },
      "source": [
        "A={1,2,3}\n",
        "B={2,3,4}\n",
        "print(A.difference(B))#A-B\n",
        "print(B.difference(A))#B-A\n",
        "print(A.symmetric_difference(B))#A-B union B-A\n",
        "print(A)\n",
        "print(B)\n",
        "A.symmetric_difference_update(B)\n",
        "print(A)\n",
        "print(B)"
      ],
      "execution_count": 0,
      "outputs": [
        {
          "output_type": "stream",
          "text": [
            "{1}\n",
            "{4}\n",
            "{1, 4}\n",
            "{1, 2, 3}\n",
            "{2, 3, 4}\n",
            "{1, 4}\n",
            "{2, 3, 4}\n"
          ],
          "name": "stdout"
        }
      ]
    },
    {
      "cell_type": "markdown",
      "metadata": {
        "id": "JebK084GY_Nu",
        "colab_type": "text"
      },
      "source": [
        "## Dictionary:\n",
        "syntax: dictionary name={key1:value1,key2:value2,.....} rules for key: 1.keys should be unique 2.keys should be immutable (example:numerics,strings,tuple)"
      ]
    },
    {
      "cell_type": "code",
      "metadata": {
        "id": "LPtARXYCY_Nv",
        "colab_type": "code",
        "colab": {},
        "outputId": "d6bf7599-b242-4006-b78b-77e8e4307e18"
      },
      "source": [
        "#creating a dictionary\n",
        "dict1={\"name\":\"jayanth\",\"rollno\":42,\"address\":\"hyd\"}\n",
        "print(dict1)"
      ],
      "execution_count": 0,
      "outputs": [
        {
          "output_type": "stream",
          "text": [
            "{'name': 'jayanth', 'rollno': 42, 'address': 'hyd'}\n"
          ],
          "name": "stdout"
        }
      ]
    },
    {
      "cell_type": "code",
      "metadata": {
        "id": "XPqA0tupY_N1",
        "colab_type": "code",
        "colab": {},
        "outputId": "62043fb8-0407-4a3b-dfea-09a9073cbb0d"
      },
      "source": [
        "#Extracting an element\n",
        "print(dict1[\"rollno\"])"
      ],
      "execution_count": 0,
      "outputs": [
        {
          "output_type": "stream",
          "text": [
            "42\n"
          ],
          "name": "stdout"
        }
      ]
    },
    {
      "cell_type": "code",
      "metadata": {
        "id": "UBp4KtmwY_N7",
        "colab_type": "code",
        "colab": {},
        "outputId": "a2ee070c-8ec3-451f-af13-997da6a89f29"
      },
      "source": [
        "#Removing or deleting an entry\n",
        "del dict1[\"address\"]\n",
        "print(dict1)"
      ],
      "execution_count": 0,
      "outputs": [
        {
          "output_type": "stream",
          "text": [
            "{'name': 'jayanth', 'rollno': 42}\n"
          ],
          "name": "stdout"
        }
      ]
    },
    {
      "cell_type": "code",
      "metadata": {
        "id": "leQk4n9jY_OB",
        "colab_type": "code",
        "colab": {},
        "outputId": "899e7f92-1304-4e5c-9cad-865da8ac9170"
      },
      "source": [
        "#Adding an entry\n",
        "dict1[\"course\"]=\"python\"\n",
        "print(dict1)\n"
      ],
      "execution_count": 0,
      "outputs": [
        {
          "output_type": "stream",
          "text": [
            "{'name': 'jayanth', 'rollno': 42, 'course': 'python'}\n"
          ],
          "name": "stdout"
        }
      ]
    },
    {
      "cell_type": "markdown",
      "metadata": {
        "id": "c6KPKiGfY_OG",
        "colab_type": "text"
      },
      "source": [
        "### Built_in methods:\n",
        "1.keys() 2.values() 3.items() 4.get() 5.update() 6.pop() 7.popitem()"
      ]
    },
    {
      "cell_type": "code",
      "metadata": {
        "id": "aRN1i4mwY_OH",
        "colab_type": "code",
        "colab": {},
        "outputId": "c4b31c48-67b7-4502-f204-90e7cda7ab8d"
      },
      "source": [
        "print(dict1.keys())\n",
        "print(dict1.values())\n",
        "print(dict1.items())"
      ],
      "execution_count": 0,
      "outputs": [
        {
          "output_type": "stream",
          "text": [
            "dict_keys(['name', 'rollno', 'course'])\n",
            "dict_values(['jayanth', 42, 'python'])\n",
            "dict_items([('name', 'jayanth'), ('rollno', 42), ('course', 'python')])\n"
          ],
          "name": "stdout"
        }
      ]
    },
    {
      "cell_type": "code",
      "metadata": {
        "id": "WsvGCygGY_OM",
        "colab_type": "code",
        "colab": {},
        "outputId": "920171c6-e33c-4914-9cdc-776ded9717e9"
      },
      "source": [
        "#extracting an element\n",
        "print(dict1[\"name\"])\n",
        "print(dict1.get(\"name\"))\n"
      ],
      "execution_count": 0,
      "outputs": [
        {
          "output_type": "stream",
          "text": [
            "jayanth\n",
            "jayanth\n"
          ],
          "name": "stdout"
        }
      ]
    },
    {
      "cell_type": "code",
      "metadata": {
        "id": "9OmNTp-8Y_OW",
        "colab_type": "code",
        "colab": {},
        "outputId": "6c7f791c-4527-49ae-854f-5133a566f135"
      },
      "source": [
        "#Adding a entry\n",
        "dict1[\"address\"]=\"hyd\"\n",
        "dict1"
      ],
      "execution_count": 0,
      "outputs": [
        {
          "output_type": "execute_result",
          "data": {
            "text/plain": [
              "{'name': 'jayanth', 'rollno': 42, 'course': 'python', 'address': 'hyd'}"
            ]
          },
          "metadata": {
            "tags": []
          },
          "execution_count": 46
        }
      ]
    },
    {
      "cell_type": "code",
      "metadata": {
        "id": "Apw2ZzxhY_Ob",
        "colab_type": "code",
        "colab": {},
        "outputId": "dad4ceb2-acc3-4c76-e260-2c46bbaa50f0"
      },
      "source": [
        "d = {1:1,2:2,3:3}\n",
        "dict1.update(d)\n",
        "print(dict1)"
      ],
      "execution_count": 0,
      "outputs": [
        {
          "output_type": "stream",
          "text": [
            "{'name': 'jayanth', 'rollno': 42, 'course': 'python', 'address': 'hyd', 1: 1, 2: 2, 3: 3}\n"
          ],
          "name": "stdout"
        }
      ]
    },
    {
      "cell_type": "code",
      "metadata": {
        "id": "n8kr3tFqY_Oi",
        "colab_type": "code",
        "colab": {},
        "outputId": "65575f7c-f602-4877-a4f9-1bada033b74a"
      },
      "source": [
        "#removing an element ==>pop(),popitem()\n",
        "dict1.popitem()\n",
        "print(dict1)\n",
        "dict1.pop(\"name\")\n",
        "print(dict1)"
      ],
      "execution_count": 0,
      "outputs": [
        {
          "output_type": "stream",
          "text": [
            "{'name': 'jayanth', 'rollno': 42, 'course': 'python', 'address': 'hyd', 1: 1, 2: 2}\n",
            "{'rollno': 42, 'course': 'python', 'address': 'hyd', 1: 1, 2: 2}\n"
          ],
          "name": "stdout"
        }
      ]
    },
    {
      "cell_type": "code",
      "metadata": {
        "id": "7ehUwUNaY_Oo",
        "colab_type": "code",
        "colab": {}
      },
      "source": [
        ""
      ],
      "execution_count": 0,
      "outputs": []
    }
  ]
}