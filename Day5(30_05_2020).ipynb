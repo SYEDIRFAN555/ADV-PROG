{
  "nbformat": 4,
  "nbformat_minor": 0,
  "metadata": {
    "kernelspec": {
      "display_name": "Python 3",
      "language": "python",
      "name": "python3"
    },
    "language_info": {
      "codemirror_mode": {
        "name": "ipython",
        "version": 3
      },
      "file_extension": ".py",
      "mimetype": "text/x-python",
      "name": "python",
      "nbconvert_exporter": "python",
      "pygments_lexer": "ipython3",
      "version": "3.7.6"
    },
    "colab": {
      "name": "Day5(30-05-2020).ipynb",
      "provenance": [],
      "include_colab_link": true
    }
  },
  "cells": [
    {
      "cell_type": "markdown",
      "metadata": {
        "id": "view-in-github",
        "colab_type": "text"
      },
      "source": [
        "<a href=\"https://colab.research.google.com/github/SYEDIRFAN555/ADV-PROG/blob/master/Day5(30_05_2020).ipynb\" target=\"_parent\"><img src=\"https://colab.research.google.com/assets/colab-badge.svg\" alt=\"Open In Colab\"/></a>"
      ]
    },
    {
      "cell_type": "code",
      "metadata": {
        "id": "U-uhIBQ0Yllj",
        "colab_type": "code",
        "colab": {},
        "outputId": "750d8418-af5e-4c1c-c2a7-0956fafc5613"
      },
      "source": [
        "#Adam Nunmber:\n",
        "n = int(input(\"enter a number\"))#12\n",
        "if int(str(n**2)[::-1]) == int(str(n)[::-1])**2:\n",
        "    print(\"Adam number\")\n",
        "else:\n",
        "    print(\"Not an Adam Number\")"
      ],
      "execution_count": 0,
      "outputs": [
        {
          "output_type": "stream",
          "text": [
            "enter a number22\n",
            "Adam number\n"
          ],
          "name": "stdout"
        }
      ]
    },
    {
      "cell_type": "code",
      "metadata": {
        "id": "ghDeGKrfYlly",
        "colab_type": "code",
        "colab": {},
        "outputId": "b132459c-1983-407a-c724-b872150ea1f8"
      },
      "source": [
        "#Conditional operator :[on True] if [condition] else [On False]\n",
        "n = int(input(\"enter a number\"))#12\n",
        "print(\"Adam number\") if int(str(n**2)[::-1]) == int(str(n)[::-1])**2 else print(\"Not an Adam Number\")"
      ],
      "execution_count": 0,
      "outputs": [
        {
          "output_type": "stream",
          "text": [
            "enter a number11\n",
            "Adam number\n"
          ],
          "name": "stdout"
        }
      ]
    },
    {
      "cell_type": "code",
      "metadata": {
        "id": "Ag_KcH31YlmC",
        "colab_type": "code",
        "colab": {},
        "outputId": "4b388642-6c68-44f8-ca81-c7542bae1d94"
      },
      "source": [
        "# factorial using recursive function\n",
        "def factorial(n):\n",
        "  if(n == 0):\n",
        "    return 1\n",
        "  else:\n",
        "    return n*factorial(n-1)\n",
        "factorial(5)"
      ],
      "execution_count": 0,
      "outputs": [
        {
          "output_type": "execute_result",
          "data": {
            "text/plain": [
              "120"
            ]
          },
          "metadata": {
            "tags": []
          },
          "execution_count": 3
        }
      ]
    },
    {
      "cell_type": "code",
      "metadata": {
        "id": "qYrR6VSAYlmC",
        "colab_type": "code",
        "colab": {},
        "outputId": "a18d2919-b5b1-418f-cd56-60b9ee0ee54e"
      },
      "source": [
        "#Lower bound and Upper bound\n",
        "def display(lb,ub):\n",
        "    if lb > ub:\n",
        "        return\n",
        "    else:\n",
        "        print(lb,end=\" \")\n",
        "        display(lb+1,ub)\n",
        "        \n",
        "lb = int(input())\n",
        "ub = int(input())\n",
        "display(lb,ub)"
      ],
      "execution_count": 0,
      "outputs": [
        {
          "output_type": "stream",
          "text": [
            "1\n",
            "10\n",
            "1 2 3 4 5 6 7 8 9 10 "
          ],
          "name": "stdout"
        }
      ]
    },
    {
      "cell_type": "code",
      "metadata": {
        "id": "y_pvPmOPYlmS",
        "colab_type": "code",
        "colab": {},
        "outputId": "11acd65b-f436-47cc-8292-00cc4f6ebdd3"
      },
      "source": [
        "#Lower bound and Upper bound\n",
        "def display(lb,ub):\n",
        "    if lb > ub:\n",
        "        return\n",
        "    else:\n",
        "        print(lb,end=\" \")\n",
        "        display(lb+1,ub)\n",
        "        \n",
        "lb = int(input())\n",
        "ub = int(input())\n",
        "display(lb,ub)"
      ],
      "execution_count": 0,
      "outputs": [
        {
          "output_type": "stream",
          "text": [
            "39\n",
            "42\n",
            "39 40 41 42 "
          ],
          "name": "stdout"
        }
      ]
    },
    {
      "cell_type": "code",
      "metadata": {
        "id": "B8MHey9OYlmS",
        "colab_type": "code",
        "colab": {},
        "outputId": "71e7ee75-9b8d-4537-daac-1a2686ca96dc"
      },
      "source": [
        "#fibonacci series:0,1,1,2,3,5,8,13,21,34........\n",
        "import time\n",
        "def recur_fibo(n):\n",
        "    if n == 1:\n",
        "        return 0\n",
        "    elif n == 2:\n",
        "        return 1\n",
        "    else:\n",
        "        return recur_fibo(n-1)+recur_fibo(n-2)\n",
        "prev = time.time()    \n",
        "print(recur_fibo(10))\n",
        "print(time.time()-prev)"
      ],
      "execution_count": 0,
      "outputs": [
        {
          "output_type": "stream",
          "text": [
            "34\n",
            "0.0009996891021728516\n"
          ],
          "name": "stdout"
        }
      ]
    },
    {
      "cell_type": "code",
      "metadata": {
        "id": "ZPyXL6glYlmS",
        "colab_type": "code",
        "colab": {},
        "outputId": "5597c280-50d9-47cf-b6f4-5cee1844ec52"
      },
      "source": [
        "#append()\n",
        "list1=[1,2,3,4,5]\n",
        "list1.append(6)\n",
        "print(list1)\n",
        "list1.append(7)\n",
        "print(list1)"
      ],
      "execution_count": 0,
      "outputs": [
        {
          "output_type": "stream",
          "text": [
            "[1, 2, 3, 4, 5, 6]\n",
            "[1, 2, 3, 4, 5, 6, 7]\n"
          ],
          "name": "stdout"
        }
      ]
    },
    {
      "cell_type": "code",
      "metadata": {
        "id": "1K2NFLliYlmh",
        "colab_type": "code",
        "colab": {},
        "outputId": "e74d8448-4fcd-4a90-b294-af70f544fad1"
      },
      "source": [
        "#insert() --> inserts an element at the given position\n",
        "list1.insert(2,100)\n",
        "print(list1)"
      ],
      "execution_count": 0,
      "outputs": [
        {
          "output_type": "stream",
          "text": [
            "[1, 2, 100, 3, 4, 5, 6, 7]\n"
          ],
          "name": "stdout"
        }
      ]
    },
    {
      "cell_type": "code",
      "metadata": {
        "id": "iC4Kg5IBYlmh",
        "colab_type": "code",
        "colab": {},
        "outputId": "b61e0d6f-46b9-4389-b00f-62f369676c9c"
      },
      "source": [
        "#extend : inserting multiple values\n",
        "list1.extend([8,9,10])\n",
        "print(list1)"
      ],
      "execution_count": 0,
      "outputs": [
        {
          "output_type": "stream",
          "text": [
            "[1, 2, 100, 3, 4, 5, 6, 7, 8, 9, 10, 8, 9, 10, 8, 9, 10]\n"
          ],
          "name": "stdout"
        }
      ]
    },
    {
      "cell_type": "code",
      "metadata": {
        "id": "MpgmtFd7Ylmx",
        "colab_type": "code",
        "colab": {},
        "outputId": "52b5317a-3968-4d36-9056-fe32129596b3"
      },
      "source": [
        "#pop()\n",
        "list1.pop(3)\n",
        "print(list1)"
      ],
      "execution_count": 0,
      "outputs": [
        {
          "output_type": "stream",
          "text": [
            "[1, 2, 3, 5, 6, 7, 8, 10, 8, 9, 10, 8, 9, 10]\n"
          ],
          "name": "stdout"
        }
      ]
    },
    {
      "cell_type": "code",
      "metadata": {
        "id": "ql4e3R8XYlmx",
        "colab_type": "code",
        "colab": {},
        "outputId": "41228872-190c-49ed-c857-e1526ab71085"
      },
      "source": [
        "#remove()\n",
        "list1.remove(9)\n",
        "print(list1)"
      ],
      "execution_count": 0,
      "outputs": [
        {
          "output_type": "stream",
          "text": [
            "[1, 2, 3, 4, 5, 6, 7, 8, 10, 8, 9, 10, 8, 9, 10]\n"
          ],
          "name": "stdout"
        }
      ]
    },
    {
      "cell_type": "code",
      "metadata": {
        "id": "Pr4Me4aOYlnB",
        "colab_type": "code",
        "colab": {},
        "outputId": "1ebdcc54-c6cb-4add-a06b-68e6e29d7469"
      },
      "source": [
        "#clear()\n",
        "list1.clear()\n",
        "list1"
      ],
      "execution_count": 0,
      "outputs": [
        {
          "output_type": "execute_result",
          "data": {
            "text/plain": [
              "[]"
            ]
          },
          "metadata": {
            "tags": []
          },
          "execution_count": 24
        }
      ]
    },
    {
      "cell_type": "code",
      "metadata": {
        "id": "2Or_-F8QYlnH",
        "colab_type": "code",
        "colab": {},
        "outputId": "a02770ff-62dd-4f33-9ece-51be8fdf39a5"
      },
      "source": [
        "#index()\n",
        "list1 = [23,34,45,56,76,68,79,78,76]\n",
        "print(list1.index(34))\n",
        "print(list1.count(76))"
      ],
      "execution_count": 0,
      "outputs": [
        {
          "output_type": "stream",
          "text": [
            "1\n",
            "2\n"
          ],
          "name": "stdout"
        }
      ]
    },
    {
      "cell_type": "code",
      "metadata": {
        "id": "jIBaM2bnYlnN",
        "colab_type": "code",
        "colab": {},
        "outputId": "e17c2139-356d-46da-dc07-9d9fbc7cd7c8"
      },
      "source": [
        "#sort()\n",
        "list1.sort()\n",
        "print(list1)\n"
      ],
      "execution_count": 0,
      "outputs": [
        {
          "output_type": "stream",
          "text": [
            "[23, 34, 45, 56, 68, 76, 76, 78, 79]\n"
          ],
          "name": "stdout"
        }
      ]
    },
    {
      "cell_type": "code",
      "metadata": {
        "id": "yhPqeUk4YlnT",
        "colab_type": "code",
        "colab": {},
        "outputId": "64c21afd-f447-4ed8-f868-da084b90238d"
      },
      "source": [
        "#descending order\n",
        "list1.sort(reverse=True)\n",
        "print(list1)\n",
        "#ascending order\n",
        "list1.sort(reverse=False)\n",
        "print(list1)"
      ],
      "execution_count": 0,
      "outputs": [
        {
          "output_type": "stream",
          "text": [
            "[79, 78, 76, 76, 68, 56, 45, 34, 23]\n",
            "[23, 34, 45, 56, 68, 76, 76, 78, 79]\n"
          ],
          "name": "stdout"
        }
      ]
    },
    {
      "cell_type": "code",
      "metadata": {
        "id": "x8NClhtfYlnZ",
        "colab_type": "code",
        "colab": {},
        "outputId": "c3436b57-77dd-465c-f1dc-7365d019645d"
      },
      "source": [
        "#reverse\n",
        "list1.reverse()\n",
        "print(list1)"
      ],
      "execution_count": 0,
      "outputs": [
        {
          "output_type": "stream",
          "text": [
            "[79, 78, 76, 76, 68, 56, 45, 34, 23]\n"
          ],
          "name": "stdout"
        }
      ]
    },
    {
      "cell_type": "code",
      "metadata": {
        "id": "N5Xk6fb4Ylnf",
        "colab_type": "code",
        "colab": {},
        "outputId": "c7586841-84c3-43a6-c913-7bab649104df"
      },
      "source": [
        "#copy()\n",
        "list1=[1,2,3,4,5]\n",
        "list2=[]\n",
        "list3=[]\n",
        "list2=list1\n",
        "print(list2)\n",
        "list3=list1.copy()\n",
        "print(list3)\n",
        "list1.append(6)\n",
        "list1.append(7)\n",
        "print(list1,list2,list3)"
      ],
      "execution_count": 0,
      "outputs": [
        {
          "output_type": "stream",
          "text": [
            "[1, 2, 3, 4, 5]\n",
            "[1, 2, 3, 4, 5]\n",
            "[1, 2, 3, 4, 5, 6, 7] [1, 2, 3, 4, 5, 6, 7] [1, 2, 3, 4, 5]\n"
          ],
          "name": "stdout"
        }
      ]
    },
    {
      "cell_type": "code",
      "metadata": {
        "id": "p2xF1CHfYlnl",
        "colab_type": "code",
        "colab": {}
      },
      "source": [
        "#writing\n",
        "f = open(\"sample.txt\",\"w\")\n",
        "f.write(\"hello everyone!!!!\")\n",
        "f.close()"
      ],
      "execution_count": 0,
      "outputs": []
    },
    {
      "cell_type": "code",
      "metadata": {
        "id": "0AnTMcLvYlnu",
        "colab_type": "code",
        "colab": {},
        "outputId": "3bb90cc3-8bf2-44dc-ee57-681933ab6643"
      },
      "source": [
        "#reading\n",
        "f = open(\"sample.txt\",\"r\")\n",
        "data = f.read()\n",
        "print(data)\n",
        "f.close()"
      ],
      "execution_count": 0,
      "outputs": [
        {
          "output_type": "stream",
          "text": [
            "hello everyone!!!!\n"
          ],
          "name": "stdout"
        }
      ]
    },
    {
      "cell_type": "code",
      "metadata": {
        "id": "9UM8TZ6jYlnz",
        "colab_type": "code",
        "colab": {}
      },
      "source": [
        "#appending\n",
        "f = open(\"sample.txt\",\"a\")\n",
        "s = '''How are doing all??\n",
        "stay home'''\n",
        "f.write(s)\n",
        "f.close()"
      ],
      "execution_count": 0,
      "outputs": []
    },
    {
      "cell_type": "code",
      "metadata": {
        "id": "FNfg2V-iYln4",
        "colab_type": "code",
        "colab": {},
        "outputId": "1fe80abf-d8d9-4a1f-ddd2-6bf125a030ca"
      },
      "source": [
        "#reading\n",
        "f = open(\"sample.txt\",\"r\")\n",
        "data = f.read()\n",
        "print(data)\n",
        "f.close()"
      ],
      "execution_count": 0,
      "outputs": [
        {
          "output_type": "stream",
          "text": [
            "hello everyone!!!!How are doing all??\n",
            "stay home\n"
          ],
          "name": "stdout"
        }
      ]
    },
    {
      "cell_type": "code",
      "metadata": {
        "id": "OKWe-N6fYloB",
        "colab_type": "code",
        "colab": {}
      },
      "source": [
        ""
      ],
      "execution_count": 0,
      "outputs": []
    }
  ]
}