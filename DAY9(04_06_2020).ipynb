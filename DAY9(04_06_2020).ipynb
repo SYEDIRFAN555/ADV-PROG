{
  "nbformat": 4,
  "nbformat_minor": 0,
  "metadata": {
    "kernelspec": {
      "display_name": "Python 3",
      "language": "python",
      "name": "python3"
    },
    "language_info": {
      "codemirror_mode": {
        "name": "ipython",
        "version": 3
      },
      "file_extension": ".py",
      "mimetype": "text/x-python",
      "name": "python",
      "nbconvert_exporter": "python",
      "pygments_lexer": "ipython3",
      "version": "3.7.6"
    },
    "colab": {
      "name": "DAY9(04-06-2020).ipynb",
      "provenance": [],
      "include_colab_link": true
    }
  },
  "cells": [
    {
      "cell_type": "markdown",
      "metadata": {
        "id": "view-in-github",
        "colab_type": "text"
      },
      "source": [
        "<a href=\"https://colab.research.google.com/github/SYEDIRFAN555/ADV-PROG/blob/master/DAY9(04_06_2020).ipynb\" target=\"_parent\"><img src=\"https://colab.research.google.com/assets/colab-badge.svg\" alt=\"Open In Colab\"/></a>"
      ]
    },
    {
      "cell_type": "code",
      "metadata": {
        "id": "yY_3_UyJZinn",
        "colab_type": "code",
        "colab": {},
        "outputId": "2ef3dbfc-275c-43d8-c299-c37fd19da290"
      },
      "source": [
        "#1-dimensional array\n",
        "import numpy as np\n",
        "a = np.array([1,2,3,4,5])\n",
        "a"
      ],
      "execution_count": 0,
      "outputs": [
        {
          "output_type": "execute_result",
          "data": {
            "text/plain": [
              "array([1, 2, 3, 4, 5])"
            ]
          },
          "metadata": {
            "tags": []
          },
          "execution_count": 1
        }
      ]
    },
    {
      "cell_type": "code",
      "metadata": {
        "id": "eERMdKrSZinz",
        "colab_type": "code",
        "colab": {},
        "outputId": "4cd9310d-2cae-4e67-fba1-d2f378caefe6"
      },
      "source": [
        "a.ndim"
      ],
      "execution_count": 0,
      "outputs": [
        {
          "output_type": "execute_result",
          "data": {
            "text/plain": [
              "1"
            ]
          },
          "metadata": {
            "tags": []
          },
          "execution_count": 2
        }
      ]
    },
    {
      "cell_type": "code",
      "metadata": {
        "id": "huL3VAWXZin6",
        "colab_type": "code",
        "colab": {},
        "outputId": "ef8a3630-4b1a-465d-bf77-436ef25448c0"
      },
      "source": [
        "#2-dimensional array\n",
        "a1 = np.array([[1,2,3],[4,5,6],[7,8,9]])\n",
        "a1"
      ],
      "execution_count": 0,
      "outputs": [
        {
          "output_type": "execute_result",
          "data": {
            "text/plain": [
              "array([[1, 2, 3],\n",
              "       [4, 5, 6],\n",
              "       [7, 8, 9]])"
            ]
          },
          "metadata": {
            "tags": []
          },
          "execution_count": 3
        }
      ]
    },
    {
      "cell_type": "code",
      "metadata": {
        "id": "ERu3l4dJZioB",
        "colab_type": "code",
        "colab": {},
        "outputId": "a302f41f-6590-47b9-84f4-3774c4b4cfb0"
      },
      "source": [
        "a1.ndim"
      ],
      "execution_count": 0,
      "outputs": [
        {
          "output_type": "execute_result",
          "data": {
            "text/plain": [
              "2"
            ]
          },
          "metadata": {
            "tags": []
          },
          "execution_count": 4
        }
      ]
    },
    {
      "cell_type": "code",
      "metadata": {
        "id": "1SxGHXrBZioI",
        "colab_type": "code",
        "colab": {},
        "outputId": "f75338cb-5554-4b9e-ba5b-3190fda1d86e"
      },
      "source": [
        "a.shape"
      ],
      "execution_count": 0,
      "outputs": [
        {
          "output_type": "execute_result",
          "data": {
            "text/plain": [
              "(5,)"
            ]
          },
          "metadata": {
            "tags": []
          },
          "execution_count": 5
        }
      ]
    },
    {
      "cell_type": "code",
      "metadata": {
        "id": "xS7PiTPHZioP",
        "colab_type": "code",
        "colab": {},
        "outputId": "0e2ab602-22e5-4487-d65d-af1c7bd17fc6"
      },
      "source": [
        "a1.shape"
      ],
      "execution_count": 0,
      "outputs": [
        {
          "output_type": "execute_result",
          "data": {
            "text/plain": [
              "(3, 3)"
            ]
          },
          "metadata": {
            "tags": []
          },
          "execution_count": 6
        }
      ]
    },
    {
      "cell_type": "code",
      "metadata": {
        "id": "IJn88efCZioW",
        "colab_type": "code",
        "colab": {}
      },
      "source": [
        "#inserting elements into the array dynamically\n",
        "a3 = np.array([],dtype=\"int32\")\n"
      ],
      "execution_count": 0,
      "outputs": []
    },
    {
      "cell_type": "code",
      "metadata": {
        "id": "jwl3W1T_Zioe",
        "colab_type": "code",
        "colab": {},
        "outputId": "34f30f01-a255-4b9a-df9f-61aed51614a6"
      },
      "source": [
        "a3 = np.append(a3,int(input()))\n",
        "a3"
      ],
      "execution_count": 0,
      "outputs": [
        {
          "output_type": "stream",
          "text": [
            "2\n"
          ],
          "name": "stdout"
        },
        {
          "output_type": "execute_result",
          "data": {
            "text/plain": [
              "array([2])"
            ]
          },
          "metadata": {
            "tags": []
          },
          "execution_count": 8
        }
      ]
    },
    {
      "cell_type": "code",
      "metadata": {
        "id": "5V_zLEgvZiok",
        "colab_type": "code",
        "colab": {},
        "outputId": "1c6b8b3b-c55d-4abe-ddbf-a989b95ccdae"
      },
      "source": [
        "a3 = np.append(a3,[23,34,45,56,67])\n",
        "a3"
      ],
      "execution_count": 0,
      "outputs": [
        {
          "output_type": "execute_result",
          "data": {
            "text/plain": [
              "array([ 2, 23, 34, 45, 56, 67])"
            ]
          },
          "metadata": {
            "tags": []
          },
          "execution_count": 9
        }
      ]
    },
    {
      "cell_type": "code",
      "metadata": {
        "id": "AFJH2D8pZior",
        "colab_type": "code",
        "colab": {}
      },
      "source": [
        "a2 = np.array([[1,2,3],[4,5,6],[7,8,9],[10,11,12]])"
      ],
      "execution_count": 0,
      "outputs": []
    },
    {
      "cell_type": "code",
      "metadata": {
        "id": "Ts8Ji1hrZioz",
        "colab_type": "code",
        "colab": {},
        "outputId": "691b6397-9e5e-42ca-996e-f64995a745b2"
      },
      "source": [
        "a2"
      ],
      "execution_count": 0,
      "outputs": [
        {
          "output_type": "execute_result",
          "data": {
            "text/plain": [
              "array([[ 1,  2,  3],\n",
              "       [ 4,  5,  6],\n",
              "       [ 7,  8,  9],\n",
              "       [10, 11, 12]])"
            ]
          },
          "metadata": {
            "tags": []
          },
          "execution_count": 11
        }
      ]
    },
    {
      "cell_type": "markdown",
      "metadata": {
        "id": "voFzFEtrZio_",
        "colab_type": "text"
      },
      "source": [
        "### Slicing:"
      ]
    },
    {
      "cell_type": "code",
      "metadata": {
        "id": "URmJjJeQZipA",
        "colab_type": "code",
        "colab": {},
        "outputId": "f6c64f36-5a6c-4ac2-d44b-2f95d554bc34"
      },
      "source": [
        "print(a3[3])"
      ],
      "execution_count": 0,
      "outputs": [
        {
          "output_type": "stream",
          "text": [
            "45\n"
          ],
          "name": "stdout"
        }
      ]
    },
    {
      "cell_type": "code",
      "metadata": {
        "id": "Xw8wPTF-ZipH",
        "colab_type": "code",
        "colab": {},
        "outputId": "3b32c83a-fbff-44ed-bed3-6da2f4d94334"
      },
      "source": [
        "print(a2[1,1])"
      ],
      "execution_count": 0,
      "outputs": [
        {
          "output_type": "stream",
          "text": [
            "5\n"
          ],
          "name": "stdout"
        }
      ]
    },
    {
      "cell_type": "code",
      "metadata": {
        "id": "YOqWly1mZipN",
        "colab_type": "code",
        "colab": {},
        "outputId": "ade25ac4-4129-450d-9341-62bc2ed2f028"
      },
      "source": [
        "print(a2[2:,:])"
      ],
      "execution_count": 0,
      "outputs": [
        {
          "output_type": "stream",
          "text": [
            "[[ 7  8  9]\n",
            " [10 11 12]]\n"
          ],
          "name": "stdout"
        }
      ]
    },
    {
      "cell_type": "code",
      "metadata": {
        "id": "NZEGl3ZkZipS",
        "colab_type": "code",
        "colab": {},
        "outputId": "8f93765e-dcfb-4127-8297-ac50e7b156d6"
      },
      "source": [
        "print(a2[2:,0:2])"
      ],
      "execution_count": 0,
      "outputs": [
        {
          "output_type": "stream",
          "text": [
            "[[ 7  8]\n",
            " [10 11]]\n"
          ],
          "name": "stdout"
        }
      ]
    },
    {
      "cell_type": "code",
      "metadata": {
        "id": "attIHMc5ZipY",
        "colab_type": "code",
        "colab": {},
        "outputId": "03e56ca7-6a5e-417d-ced2-de966e7cb86a"
      },
      "source": [
        "print(a2[0,0:2])"
      ],
      "execution_count": 0,
      "outputs": [
        {
          "output_type": "stream",
          "text": [
            "[1 2]\n"
          ],
          "name": "stdout"
        }
      ]
    },
    {
      "cell_type": "code",
      "metadata": {
        "id": "esIvVyEjZipe",
        "colab_type": "code",
        "colab": {},
        "outputId": "55b37c5d-d400-4afc-9106-e9c649696c34"
      },
      "source": [
        "print(a2[0::2,:])"
      ],
      "execution_count": 0,
      "outputs": [
        {
          "output_type": "stream",
          "text": [
            "[[1 2 3]\n",
            " [7 8 9]]\n"
          ],
          "name": "stdout"
        }
      ]
    },
    {
      "cell_type": "markdown",
      "metadata": {
        "id": "1GKhNjDKZipk",
        "colab_type": "text"
      },
      "source": [
        "### Iterate through array:"
      ]
    },
    {
      "cell_type": "code",
      "metadata": {
        "id": "CuOJ4fiSZipl",
        "colab_type": "code",
        "colab": {},
        "outputId": "a811d4c5-3762-4eea-df98-91c91c9394e3"
      },
      "source": [
        "for row in a2:\n",
        "    print(row)\n"
      ],
      "execution_count": 0,
      "outputs": [
        {
          "output_type": "stream",
          "text": [
            "[1 2 3]\n",
            "[4 5 6]\n",
            "[7 8 9]\n",
            "[10 11 12]\n"
          ],
          "name": "stdout"
        }
      ]
    },
    {
      "cell_type": "code",
      "metadata": {
        "id": "AFF4W_KvZipo",
        "colab_type": "code",
        "colab": {},
        "outputId": "c0b07bc5-b9be-4956-a748-3b06942791a8"
      },
      "source": [
        "list1 = [[1,2],[3,4]]\n",
        "for i in list1:\n",
        "    print(i)"
      ],
      "execution_count": 0,
      "outputs": [
        {
          "output_type": "stream",
          "text": [
            "[1, 2]\n",
            "[3, 4]\n"
          ],
          "name": "stdout"
        }
      ]
    },
    {
      "cell_type": "code",
      "metadata": {
        "id": "7pXOjJLgZipo",
        "colab_type": "code",
        "colab": {},
        "outputId": "d2c3e63b-4b73-4c8a-e9e7-dce3c02f91b3"
      },
      "source": [
        "for ele in a2.flat:\n",
        "    print(ele,end=\" \")"
      ],
      "execution_count": 0,
      "outputs": [
        {
          "output_type": "stream",
          "text": [
            "1 2 3 4 5 6 7 8 9 10 11 12 "
          ],
          "name": "stdout"
        }
      ]
    },
    {
      "cell_type": "code",
      "metadata": {
        "id": "79n1gFyUZipo",
        "colab_type": "code",
        "colab": {},
        "outputId": "650d4be3-4b33-4c40-a7d5-a47145c95e13"
      },
      "source": [
        "np.array(a2.flat)"
      ],
      "execution_count": 0,
      "outputs": [
        {
          "output_type": "execute_result",
          "data": {
            "text/plain": [
              "array([ 1,  2,  3,  4,  5,  6,  7,  8,  9, 10, 11, 12])"
            ]
          },
          "metadata": {
            "tags": []
          },
          "execution_count": 21
        }
      ]
    },
    {
      "cell_type": "markdown",
      "metadata": {
        "id": "oux9weXuZip4",
        "colab_type": "text"
      },
      "source": [
        "### Indexing with boolean array"
      ]
    },
    {
      "cell_type": "code",
      "metadata": {
        "id": "tLuAZ89BZip4",
        "colab_type": "code",
        "colab": {},
        "outputId": "60673dbf-6c5e-4f0e-8070-fa0c1fcca186"
      },
      "source": [
        "arr1 = np.arange(1,21).reshape(5,4)\n",
        "arr1"
      ],
      "execution_count": 0,
      "outputs": [
        {
          "output_type": "execute_result",
          "data": {
            "text/plain": [
              "array([[ 1,  2,  3,  4],\n",
              "       [ 5,  6,  7,  8],\n",
              "       [ 9, 10, 11, 12],\n",
              "       [13, 14, 15, 16],\n",
              "       [17, 18, 19, 20]])"
            ]
          },
          "metadata": {
            "tags": []
          },
          "execution_count": 22
        }
      ]
    },
    {
      "cell_type": "code",
      "metadata": {
        "id": "wB66Xz8wZip4",
        "colab_type": "code",
        "colab": {},
        "outputId": "502badf8-9692-43ee-f506-90767b611939"
      },
      "source": [
        "#even number\n",
        "result = (arr1 % 2 == 0)\n",
        "result"
      ],
      "execution_count": 0,
      "outputs": [
        {
          "output_type": "execute_result",
          "data": {
            "text/plain": [
              "array([[False,  True, False,  True],\n",
              "       [False,  True, False,  True],\n",
              "       [False,  True, False,  True],\n",
              "       [False,  True, False,  True],\n",
              "       [False,  True, False,  True]])"
            ]
          },
          "metadata": {
            "tags": []
          },
          "execution_count": 23
        }
      ]
    },
    {
      "cell_type": "code",
      "metadata": {
        "id": "UHfD-RJgZiqH",
        "colab_type": "code",
        "colab": {},
        "outputId": "7b1d0eb7-fbff-4bf6-b082-4869cbf0394d"
      },
      "source": [
        "#displaying only even numbers from the 2-dimensional array\n",
        "arr1[result]\n"
      ],
      "execution_count": 0,
      "outputs": [
        {
          "output_type": "execute_result",
          "data": {
            "text/plain": [
              "array([ 2,  4,  6,  8, 10, 12, 14, 16, 18, 20])"
            ]
          },
          "metadata": {
            "tags": []
          },
          "execution_count": 24
        }
      ]
    },
    {
      "cell_type": "markdown",
      "metadata": {
        "id": "yGdG--a-ZiqH",
        "colab_type": "text"
      },
      "source": [
        "### Appending array"
      ]
    },
    {
      "cell_type": "code",
      "metadata": {
        "id": "_iYsfqZaZiqH",
        "colab_type": "code",
        "colab": {},
        "outputId": "99942f21-4e2d-4c7a-9d2d-41e802d22d4f"
      },
      "source": [
        "arr1 = np.arange(1,10).reshape(3,3)\n",
        "arr2 = np.arange(11,20).reshape(3,3)\n",
        "print(np.vstack((arr1,arr2)))#vertical stacking"
      ],
      "execution_count": 0,
      "outputs": [
        {
          "output_type": "stream",
          "text": [
            "[[ 1  2  3]\n",
            " [ 4  5  6]\n",
            " [ 7  8  9]\n",
            " [11 12 13]\n",
            " [14 15 16]\n",
            " [17 18 19]]\n"
          ],
          "name": "stdout"
        }
      ]
    },
    {
      "cell_type": "code",
      "metadata": {
        "id": "hgFBwvdyZiqX",
        "colab_type": "code",
        "colab": {},
        "outputId": "1e0a2d1f-3fea-4510-a671-9fdb617bf747"
      },
      "source": [
        "print(np.hstack((arr1,arr2)))#horizontal stacking"
      ],
      "execution_count": 0,
      "outputs": [
        {
          "output_type": "stream",
          "text": [
            "[[ 1  2  3 11 12 13]\n",
            " [ 4  5  6 14 15 16]\n",
            " [ 7  8  9 17 18 19]]\n"
          ],
          "name": "stdout"
        }
      ]
    },
    {
      "cell_type": "markdown",
      "metadata": {
        "id": "LcbsXXjQZiqX",
        "colab_type": "text"
      },
      "source": [
        "## Attributes:\n",
        "1. size\n",
        "2. itemsize\n",
        "3. dtype\n",
        "4. ndim\n",
        "5. shape"
      ]
    },
    {
      "cell_type": "code",
      "metadata": {
        "id": "CdovmbANZiqX",
        "colab_type": "code",
        "colab": {},
        "outputId": "a67be571-7022-4e3f-c7d4-17e730d2358c"
      },
      "source": [
        "arr = np.arange(1,11).reshape(2,5)\n",
        "arr"
      ],
      "execution_count": 0,
      "outputs": [
        {
          "output_type": "execute_result",
          "data": {
            "text/plain": [
              "array([[ 1,  2,  3,  4,  5],\n",
              "       [ 6,  7,  8,  9, 10]])"
            ]
          },
          "metadata": {
            "tags": []
          },
          "execution_count": 27
        }
      ]
    },
    {
      "cell_type": "code",
      "metadata": {
        "id": "5n3WV6A4ZiqX",
        "colab_type": "code",
        "colab": {},
        "outputId": "ca9e8756-07d1-4ebb-d839-ac3ceb356c01"
      },
      "source": [
        "print(arr.size)\n",
        "print(arr.itemsize)\n",
        "print(arr.dtype)\n",
        "print(arr.ndim)\n",
        "print(arr.shape)"
      ],
      "execution_count": 0,
      "outputs": [
        {
          "output_type": "stream",
          "text": [
            "10\n",
            "4\n",
            "int32\n",
            "2\n",
            "(2, 5)\n"
          ],
          "name": "stdout"
        }
      ]
    },
    {
      "cell_type": "markdown",
      "metadata": {
        "id": "7oUduyN3Ziqm",
        "colab_type": "text"
      },
      "source": [
        "## Functions:\n",
        "1. zeros()\n",
        "2. one()\n",
        "3. full()\n",
        "4. eye()\n",
        "5. linspace()\n",
        "6. arange()\n",
        "7. reshape()\n",
        "8. ravel()"
      ]
    },
    {
      "cell_type": "code",
      "metadata": {
        "id": "WtmYkJhlZiqm",
        "colab_type": "code",
        "colab": {},
        "outputId": "957b87d6-ffc5-4268-dce4-55c855b98109"
      },
      "source": [
        "#zeros()\n",
        "z = np.zeros((2,3),dtype=\"int32\")\n",
        "z\n"
      ],
      "execution_count": 0,
      "outputs": [
        {
          "output_type": "execute_result",
          "data": {
            "text/plain": [
              "array([[0, 0, 0],\n",
              "       [0, 0, 0]])"
            ]
          },
          "metadata": {
            "tags": []
          },
          "execution_count": 29
        }
      ]
    },
    {
      "cell_type": "code",
      "metadata": {
        "id": "X2H0RVxnZiqm",
        "colab_type": "code",
        "colab": {},
        "outputId": "166e7c5b-8aac-4cc2-b13d-498e59521d0f"
      },
      "source": [
        "#ones()\n",
        "o = np.ones((3,3),dtype=\"int32\")\n",
        "o"
      ],
      "execution_count": 0,
      "outputs": [
        {
          "output_type": "execute_result",
          "data": {
            "text/plain": [
              "array([[1, 1, 1],\n",
              "       [1, 1, 1],\n",
              "       [1, 1, 1]])"
            ]
          },
          "metadata": {
            "tags": []
          },
          "execution_count": 30
        }
      ]
    },
    {
      "cell_type": "code",
      "metadata": {
        "id": "zL-l6aRWZiq3",
        "colab_type": "code",
        "colab": {},
        "outputId": "958946be-c27c-413e-b48c-6e6f98eedd23"
      },
      "source": [
        "#full()\n",
        "f =np.full((2,2),\"jayanth\")\n",
        "print(f)"
      ],
      "execution_count": 0,
      "outputs": [
        {
          "output_type": "stream",
          "text": [
            "[['jayanth' 'jayanth']\n",
            " ['jayanth' 'jayanth']]\n"
          ],
          "name": "stdout"
        }
      ]
    },
    {
      "cell_type": "code",
      "metadata": {
        "id": "J7uN3IgdZiq3",
        "colab_type": "code",
        "colab": {},
        "outputId": "eeb9a228-6a64-47b8-f382-15f18d11ddf8"
      },
      "source": [
        "#eye()\n",
        "e = np.eye(3,dtype=\"int32\")\n",
        "e"
      ],
      "execution_count": 0,
      "outputs": [
        {
          "output_type": "execute_result",
          "data": {
            "text/plain": [
              "array([[1, 0, 0],\n",
              "       [0, 1, 0],\n",
              "       [0, 0, 1]])"
            ]
          },
          "metadata": {
            "tags": []
          },
          "execution_count": 32
        }
      ]
    },
    {
      "cell_type": "code",
      "metadata": {
        "id": "ZodxyJW1ZirH",
        "colab_type": "code",
        "colab": {},
        "outputId": "2381dedd-45a8-4476-c2d3-87563cc52d48"
      },
      "source": [
        "#linspace() -->create an array linear spacing elements\n",
        "l = np.linspace(1,10,5)\n",
        "l"
      ],
      "execution_count": 0,
      "outputs": [
        {
          "output_type": "execute_result",
          "data": {
            "text/plain": [
              "array([ 1.  ,  3.25,  5.5 ,  7.75, 10.  ])"
            ]
          },
          "metadata": {
            "tags": []
          },
          "execution_count": 33
        }
      ]
    },
    {
      "cell_type": "code",
      "metadata": {
        "id": "yC4EzcUYZirH",
        "colab_type": "code",
        "colab": {},
        "outputId": "b940ed88-d650-446c-8d77-99088587c487"
      },
      "source": [
        "#arange(start,stop,step) \n",
        "a = np.arange(1,13,2)\n",
        "a"
      ],
      "execution_count": 0,
      "outputs": [
        {
          "output_type": "execute_result",
          "data": {
            "text/plain": [
              "array([ 1,  3,  5,  7,  9, 11])"
            ]
          },
          "metadata": {
            "tags": []
          },
          "execution_count": 34
        }
      ]
    },
    {
      "cell_type": "code",
      "metadata": {
        "id": "WYMmRU3EZirH",
        "colab_type": "code",
        "colab": {},
        "outputId": "581abdb5-94f4-427f-d7b7-4537b31c7adf"
      },
      "source": [
        "#reshape()\n",
        "a = a.reshape(2,3)\n",
        "a"
      ],
      "execution_count": 0,
      "outputs": [
        {
          "output_type": "execute_result",
          "data": {
            "text/plain": [
              "array([[ 1,  3,  5],\n",
              "       [ 7,  9, 11]])"
            ]
          },
          "metadata": {
            "tags": []
          },
          "execution_count": 35
        }
      ]
    },
    {
      "cell_type": "code",
      "metadata": {
        "id": "1ryA7iwaZirW",
        "colab_type": "code",
        "colab": {},
        "outputId": "5db565f2-3976-4414-91e9-4cecc7983108"
      },
      "source": [
        "#ravel() -->flattens your array elements\n",
        "print(np.array(a.flat))\n",
        "print(a.ravel())"
      ],
      "execution_count": 0,
      "outputs": [
        {
          "output_type": "stream",
          "text": [
            "[ 1  3  5  7  9 11]\n",
            "[ 1  3  5  7  9 11]\n"
          ],
          "name": "stdout"
        }
      ]
    },
    {
      "cell_type": "markdown",
      "metadata": {
        "id": "n3g16zruZirW",
        "colab_type": "text"
      },
      "source": [
        "## Functions:\n",
        "1. min()\n",
        "2. max()\n",
        "3. sum()\n",
        "4. sqrt()\n",
        "5. mean()\n",
        "6. median()\n",
        "7. std()"
      ]
    },
    {
      "cell_type": "code",
      "metadata": {
        "id": "1uLSwkxRZirW",
        "colab_type": "code",
        "colab": {},
        "outputId": "05251329-1787-4fa4-d620-1327b1108e8b"
      },
      "source": [
        "#min(),max()\n",
        "print(a.min())\n",
        "print(a.max())"
      ],
      "execution_count": 0,
      "outputs": [
        {
          "output_type": "stream",
          "text": [
            "1\n",
            "11\n"
          ],
          "name": "stdout"
        }
      ]
    },
    {
      "cell_type": "code",
      "metadata": {
        "id": "PdwSTWXtZirW",
        "colab_type": "code",
        "colab": {},
        "outputId": "0fafd957-cd73-4dd4-b099-6b612e44de7e"
      },
      "source": [
        "a"
      ],
      "execution_count": 0,
      "outputs": [
        {
          "output_type": "execute_result",
          "data": {
            "text/plain": [
              "array([[ 1,  3,  5],\n",
              "       [ 7,  9, 11]])"
            ]
          },
          "metadata": {
            "tags": []
          },
          "execution_count": 38
        }
      ]
    },
    {
      "cell_type": "code",
      "metadata": {
        "id": "sqCTfYElZirm",
        "colab_type": "code",
        "colab": {},
        "outputId": "ab8b6559-3e0f-4259-d9ad-3d6b90458a1a"
      },
      "source": [
        "#Sum()\n",
        "print(a.sum())#sum of all the elements\n",
        "print(a.sum(axis=1))#sum of row elements\n",
        "print(a.sum(axis=0))#sum of colunm elements"
      ],
      "execution_count": 0,
      "outputs": [
        {
          "output_type": "stream",
          "text": [
            "36\n",
            "[ 9 27]\n",
            "[ 8 12 16]\n"
          ],
          "name": "stdout"
        }
      ]
    },
    {
      "cell_type": "code",
      "metadata": {
        "id": "kRwiM9OJZirm",
        "colab_type": "code",
        "colab": {},
        "outputId": "91a4f0be-a773-4bf2-8c7c-f4a323d0aba8"
      },
      "source": [
        "#sqrt()\n",
        "np.sqrt(a)"
      ],
      "execution_count": 0,
      "outputs": [
        {
          "output_type": "execute_result",
          "data": {
            "text/plain": [
              "array([[1.        , 1.73205081, 2.23606798],\n",
              "       [2.64575131, 3.        , 3.31662479]])"
            ]
          },
          "metadata": {
            "tags": []
          },
          "execution_count": 40
        }
      ]
    },
    {
      "cell_type": "code",
      "metadata": {
        "id": "AGBB4nhcZir1",
        "colab_type": "code",
        "colab": {},
        "outputId": "8ae7724c-d572-4d26-9f16-eaa4000aa7f3"
      },
      "source": [
        "#mean()\n",
        "np.mean(a)"
      ],
      "execution_count": 0,
      "outputs": [
        {
          "output_type": "execute_result",
          "data": {
            "text/plain": [
              "6.0"
            ]
          },
          "metadata": {
            "tags": []
          },
          "execution_count": 41
        }
      ]
    },
    {
      "cell_type": "code",
      "metadata": {
        "id": "WwfeDlmfZir1",
        "colab_type": "code",
        "colab": {},
        "outputId": "94140ed0-0860-4748-8ab8-bdc689678fed"
      },
      "source": [
        "#median()\n",
        "np.median(a)"
      ],
      "execution_count": 0,
      "outputs": [
        {
          "output_type": "execute_result",
          "data": {
            "text/plain": [
              "6.0"
            ]
          },
          "metadata": {
            "tags": []
          },
          "execution_count": 43
        }
      ]
    },
    {
      "cell_type": "code",
      "metadata": {
        "id": "-tV14VH8ZisF",
        "colab_type": "code",
        "colab": {},
        "outputId": "3d0b4b05-e573-446d-aa74-c42895bb9d70"
      },
      "source": [
        "#std()\n",
        "np.std(a)"
      ],
      "execution_count": 0,
      "outputs": [
        {
          "output_type": "execute_result",
          "data": {
            "text/plain": [
              "3.415650255319866"
            ]
          },
          "metadata": {
            "tags": []
          },
          "execution_count": 44
        }
      ]
    },
    {
      "cell_type": "markdown",
      "metadata": {
        "id": "NnBKTlntZisF",
        "colab_type": "text"
      },
      "source": [
        "### Mathematical functions: +,-,*,%,/"
      ]
    },
    {
      "cell_type": "code",
      "metadata": {
        "id": "kJhbZt77ZisF",
        "colab_type": "code",
        "colab": {},
        "outputId": "0cf5b1fa-4230-4f33-e29e-70619c679132"
      },
      "source": [
        "arr1 = np.arange(1,11)\n",
        "arr2 = np.arange(11,21)\n",
        "print(arr1 + arr2)\n",
        "print(arr2 - arr1)\n",
        "print(arr1 * arr2)\n",
        "print(arr1 / arr2)\n",
        "print(arr1 % arr2)"
      ],
      "execution_count": 0,
      "outputs": [
        {
          "output_type": "stream",
          "text": [
            "[12 14 16 18 20 22 24 26 28 30]\n",
            "[10 10 10 10 10 10 10 10 10 10]\n",
            "[ 11  24  39  56  75  96 119 144 171 200]\n",
            "[0.09090909 0.16666667 0.23076923 0.28571429 0.33333333 0.375\n",
            " 0.41176471 0.44444444 0.47368421 0.5       ]\n",
            "[ 1  2  3  4  5  6  7  8  9 10]\n"
          ],
          "name": "stdout"
        }
      ]
    },
    {
      "cell_type": "markdown",
      "metadata": {
        "id": "s2JGuAYXZisZ",
        "colab_type": "text"
      },
      "source": [
        "### dot() --> Matrix multiplication¶\n",
        "### arr1 = m X n\n",
        "### arr2 = n X l"
      ]
    },
    {
      "cell_type": "code",
      "metadata": {
        "id": "PbjUEiRxZisc",
        "colab_type": "code",
        "colab": {},
        "outputId": "f8d386c8-a675-4818-f9c7-0eca1ff827db"
      },
      "source": [
        "import numpy as np\n",
        "arr1 = np.arange(1,10).reshape(3,3)\n",
        "arr2 = np.arange(11,20).reshape(3,3)\n",
        "arr1.dot(arr2)"
      ],
      "execution_count": 0,
      "outputs": [
        {
          "output_type": "execute_result",
          "data": {
            "text/plain": [
              "array([[ 90,  96, 102],\n",
              "       [216, 231, 246],\n",
              "       [342, 366, 390]])"
            ]
          },
          "metadata": {
            "tags": []
          },
          "execution_count": 46
        }
      ]
    },
    {
      "cell_type": "code",
      "metadata": {
        "id": "-QLsUIylZisg",
        "colab_type": "code",
        "colab": {},
        "outputId": "425a146c-890f-46c7-e42e-8c9eedad6948"
      },
      "source": [
        "arr1"
      ],
      "execution_count": 0,
      "outputs": [
        {
          "output_type": "execute_result",
          "data": {
            "text/plain": [
              "array([[1, 2, 3],\n",
              "       [4, 5, 6],\n",
              "       [7, 8, 9]])"
            ]
          },
          "metadata": {
            "tags": []
          },
          "execution_count": 47
        }
      ]
    },
    {
      "cell_type": "code",
      "metadata": {
        "id": "mnwL0pRtZism",
        "colab_type": "code",
        "colab": {},
        "outputId": "66e7e41d-4ca8-4be1-dff3-f62cce5cd793"
      },
      "source": [
        "#transpose of an array\n",
        "arr1.T"
      ],
      "execution_count": 0,
      "outputs": [
        {
          "output_type": "execute_result",
          "data": {
            "text/plain": [
              "array([[1, 4, 7],\n",
              "       [2, 5, 8],\n",
              "       [3, 6, 9]])"
            ]
          },
          "metadata": {
            "tags": []
          },
          "execution_count": 48
        }
      ]
    },
    {
      "cell_type": "markdown",
      "metadata": {
        "id": "rnmEJW59Zisr",
        "colab_type": "text"
      },
      "source": [
        "## Apply user-defined function:"
      ]
    },
    {
      "cell_type": "code",
      "metadata": {
        "id": "ZgfhKRrgZisr",
        "colab_type": "code",
        "colab": {},
        "outputId": "a9239f28-09b8-4402-fe37-ee543279e8fc"
      },
      "source": [
        "list1 = list(range(1,20))\n",
        "list1"
      ],
      "execution_count": 0,
      "outputs": [
        {
          "output_type": "execute_result",
          "data": {
            "text/plain": [
              "[1, 2, 3, 4, 5, 6, 7, 8, 9, 10, 11, 12, 13, 14, 15, 16, 17, 18, 19]"
            ]
          },
          "metadata": {
            "tags": []
          },
          "execution_count": 49
        }
      ]
    },
    {
      "cell_type": "code",
      "metadata": {
        "id": "wPOGuozHZisw",
        "colab_type": "code",
        "colab": {},
        "outputId": "9a126161-511e-49dc-b1ca-9ef6f3d616e2"
      },
      "source": [
        "a = np.array(list1)\n",
        "a"
      ],
      "execution_count": 0,
      "outputs": [
        {
          "output_type": "execute_result",
          "data": {
            "text/plain": [
              "array([ 1,  2,  3,  4,  5,  6,  7,  8,  9, 10, 11, 12, 13, 14, 15, 16, 17,\n",
              "       18, 19])"
            ]
          },
          "metadata": {
            "tags": []
          },
          "execution_count": 50
        }
      ]
    },
    {
      "cell_type": "code",
      "metadata": {
        "id": "ow3SAkWpZis1",
        "colab_type": "code",
        "colab": {},
        "outputId": "be817cc8-e9ba-4be9-942b-e75416068b75"
      },
      "source": [
        "#1/(1+1) -->X/(X+1)\n",
        "result = [X/(X+1) for X in list1]\n",
        "result"
      ],
      "execution_count": 0,
      "outputs": [
        {
          "output_type": "execute_result",
          "data": {
            "text/plain": [
              "[0.5,\n",
              " 0.6666666666666666,\n",
              " 0.75,\n",
              " 0.8,\n",
              " 0.8333333333333334,\n",
              " 0.8571428571428571,\n",
              " 0.875,\n",
              " 0.8888888888888888,\n",
              " 0.9,\n",
              " 0.9090909090909091,\n",
              " 0.9166666666666666,\n",
              " 0.9230769230769231,\n",
              " 0.9285714285714286,\n",
              " 0.9333333333333333,\n",
              " 0.9375,\n",
              " 0.9411764705882353,\n",
              " 0.9444444444444444,\n",
              " 0.9473684210526315,\n",
              " 0.95]"
            ]
          },
          "metadata": {
            "tags": []
          },
          "execution_count": 51
        }
      ]
    },
    {
      "cell_type": "code",
      "metadata": {
        "id": "w8jbDTnGZis6",
        "colab_type": "code",
        "colab": {},
        "outputId": "8392049e-6faa-4f9f-8ade-7920aaee750e"
      },
      "source": [
        "f = np.vectorize(lambda X: X/(X+1))\n",
        "f(a)"
      ],
      "execution_count": 0,
      "outputs": [
        {
          "output_type": "execute_result",
          "data": {
            "text/plain": [
              "array([0.5       , 0.66666667, 0.75      , 0.8       , 0.83333333,\n",
              "       0.85714286, 0.875     , 0.88888889, 0.9       , 0.90909091,\n",
              "       0.91666667, 0.92307692, 0.92857143, 0.93333333, 0.9375    ,\n",
              "       0.94117647, 0.94444444, 0.94736842, 0.95      ])"
            ]
          },
          "metadata": {
            "tags": []
          },
          "execution_count": 52
        }
      ]
    },
    {
      "cell_type": "code",
      "metadata": {
        "id": "1iG9AZoaZis6",
        "colab_type": "code",
        "colab": {}
      },
      "source": [
        ""
      ],
      "execution_count": 0,
      "outputs": []
    }
  ]
}