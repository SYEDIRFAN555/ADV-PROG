{
  "nbformat": 4,
  "nbformat_minor": 0,
  "metadata": {
    "kernelspec": {
      "display_name": "Python 3",
      "language": "python",
      "name": "python3"
    },
    "language_info": {
      "codemirror_mode": {
        "name": "ipython",
        "version": 3
      },
      "file_extension": ".py",
      "mimetype": "text/x-python",
      "name": "python",
      "nbconvert_exporter": "python",
      "pygments_lexer": "ipython3",
      "version": "3.7.6"
    },
    "colab": {
      "name": "DAY7(02-06-2020).ipynb",
      "provenance": [],
      "include_colab_link": true
    }
  },
  "cells": [
    {
      "cell_type": "markdown",
      "metadata": {
        "id": "view-in-github",
        "colab_type": "text"
      },
      "source": [
        "<a href=\"https://colab.research.google.com/github/SYEDIRFAN555/ADV-PROG/blob/master/DAY7(02_06_2020).ipynb\" target=\"_parent\"><img src=\"https://colab.research.google.com/assets/colab-badge.svg\" alt=\"Open In Colab\"/></a>"
      ]
    },
    {
      "cell_type": "markdown",
      "metadata": {
        "id": "OoWiXGdWZPdS",
        "colab_type": "text"
      },
      "source": [
        "##  List Comprehension"
      ]
    },
    {
      "cell_type": "code",
      "metadata": {
        "id": "yXp056LxZPdS",
        "colab_type": "code",
        "colab": {},
        "outputId": "d6fa8edb-b5fb-4a6b-b7ff-6ac0020de688"
      },
      "source": [
        "#create another list with even elements of list1\n",
        "list1 =  list(range(1,11))\n",
        "list2 = []\n",
        "for i in list1:\n",
        "    if i%2 == 0:\n",
        "        list2.append(i)\n",
        "print(list2)"
      ],
      "execution_count": 0,
      "outputs": [
        {
          "output_type": "stream",
          "text": [
            "[2, 4, 6, 8, 10]\n"
          ],
          "name": "stdout"
        }
      ]
    },
    {
      "cell_type": "code",
      "metadata": {
        "id": "XHmCjhM2ZPdi",
        "colab_type": "code",
        "colab": {},
        "outputId": "600534be-cfd1-4382-dd68-b42a87f49a64"
      },
      "source": [
        "#list comprehension\n",
        "list3 = [i for i in list1 if i%2 == 0 ]\n",
        "print(list3)\n"
      ],
      "execution_count": 0,
      "outputs": [
        {
          "output_type": "stream",
          "text": [
            "[2, 4, 6, 8, 10]\n"
          ],
          "name": "stdout"
        }
      ]
    },
    {
      "cell_type": "code",
      "metadata": {
        "id": "m1_a5rxWZPdy",
        "colab_type": "code",
        "colab": {},
        "outputId": "79cf9231-bcaf-45af-95ab-a24b10057ef0"
      },
      "source": [
        "#list comprehension\n",
        "list3 = [i for i in list1 if i%2 == 0 ]\n",
        "print(list3)"
      ],
      "execution_count": 0,
      "outputs": [
        {
          "output_type": "stream",
          "text": [
            "[2, 4, 6, 8, 10]\n"
          ],
          "name": "stdout"
        }
      ]
    },
    {
      "cell_type": "code",
      "metadata": {
        "id": "H3r7MTv7ZPd5",
        "colab_type": "code",
        "colab": {},
        "outputId": "6ea05b64-658a-4dbf-cc22-fa3056ad1ce1"
      },
      "source": [
        "#accept string as an input and print all the digits and count of the digits\n",
        "#using list comprehension\n",
        "#input : \"Hello 12345\"\n",
        "#output : ['1','2','3','4','5'],5\n",
        "    \n",
        "string = input(\"enter a string:\")\n",
        "list4 = [ch for ch in string if ch.isdigit()]\n",
        "print(list4,len(list4))"
      ],
      "execution_count": 0,
      "outputs": [
        {
          "output_type": "stream",
          "text": [
            "enter a string:12\n",
            "['1', '2'] 2\n"
          ],
          "name": "stdout"
        }
      ]
    },
    {
      "cell_type": "code",
      "metadata": {
        "id": "zYp5LVLNZPeB",
        "colab_type": "code",
        "colab": {},
        "outputId": "bd2e06f2-e74e-423d-ff38-008b32cbd454"
      },
      "source": [
        "list5 = list(range(1,11))\n",
        "list6 = list(range(11,21))\n",
        "print(list5,list6)"
      ],
      "execution_count": 0,
      "outputs": [
        {
          "output_type": "stream",
          "text": [
            "[1, 2, 3, 4, 5, 6, 7, 8, 9, 10] [11, 12, 13, 14, 15, 16, 17, 18, 19, 20]\n"
          ],
          "name": "stdout"
        }
      ]
    },
    {
      "cell_type": "code",
      "metadata": {
        "id": "xlAQIXf6ZPeI",
        "colab_type": "code",
        "colab": {},
        "outputId": "88527e95-16fc-4ed2-be3a-d313f6439954"
      },
      "source": [
        "#output: [12,14,16,....,30] using list5,list6\n",
        "\n",
        "result = [list5[i]+list6[i] for i in range(len(list5))]\n",
        "result\n"
      ],
      "execution_count": 0,
      "outputs": [
        {
          "output_type": "execute_result",
          "data": {
            "text/plain": [
              "[12, 14, 16, 18, 20, 22, 24, 26, 28, 30]"
            ]
          },
          "metadata": {
            "tags": []
          },
          "execution_count": 7
        }
      ]
    },
    {
      "cell_type": "code",
      "metadata": {
        "id": "-PnNqq3HZPeQ",
        "colab_type": "code",
        "colab": {},
        "outputId": "a6be43d1-8fd3-4a85-f689-24b60983e4bb"
      },
      "source": [
        "result = [x+y for x,y in zip(list5,list6)]\n",
        "result"
      ],
      "execution_count": 0,
      "outputs": [
        {
          "output_type": "execute_result",
          "data": {
            "text/plain": [
              "[12, 14, 16, 18, 20, 22, 24, 26, 28, 30]"
            ]
          },
          "metadata": {
            "tags": []
          },
          "execution_count": 8
        }
      ]
    },
    {
      "cell_type": "markdown",
      "metadata": {
        "id": "ZAQdC7e5ZPeX",
        "colab_type": "text"
      },
      "source": [
        "## Anonymous Function(lambda functions)\n",
        "syntax: lambda arguments : logic"
      ]
    },
    {
      "cell_type": "code",
      "metadata": {
        "id": "pS5A6bZhZPeY",
        "colab_type": "code",
        "colab": {}
      },
      "source": [
        "s = lambda X : X**2"
      ],
      "execution_count": 0,
      "outputs": []
    },
    {
      "cell_type": "code",
      "metadata": {
        "id": "hu84hnDkZPee",
        "colab_type": "code",
        "colab": {},
        "outputId": "cf898a5f-0a16-49fc-c4da-52620902a507"
      },
      "source": [
        "s(12)"
      ],
      "execution_count": 0,
      "outputs": [
        {
          "output_type": "execute_result",
          "data": {
            "text/plain": [
              "144"
            ]
          },
          "metadata": {
            "tags": []
          },
          "execution_count": 10
        }
      ]
    },
    {
      "cell_type": "code",
      "metadata": {
        "id": "FOXytYnPZPek",
        "colab_type": "code",
        "colab": {},
        "outputId": "6ed60459-1beb-4a90-8677-20f9c9f3677d"
      },
      "source": [
        "add = lambda x,y : x+y\n",
        "add(10,20)"
      ],
      "execution_count": 0,
      "outputs": [
        {
          "output_type": "execute_result",
          "data": {
            "text/plain": [
              "30"
            ]
          },
          "metadata": {
            "tags": []
          },
          "execution_count": 11
        }
      ]
    },
    {
      "cell_type": "markdown",
      "metadata": {
        "id": "sCXEU_34ZPer",
        "colab_type": "text"
      },
      "source": [
        "### map()"
      ]
    },
    {
      "cell_type": "code",
      "metadata": {
        "id": "7hqA5CNvZPes",
        "colab_type": "code",
        "colab": {},
        "outputId": "c295560a-7982-4447-eeaf-2085db2772fe"
      },
      "source": [
        "list6 = list(range(1,11))\n",
        "list6"
      ],
      "execution_count": 0,
      "outputs": [
        {
          "output_type": "execute_result",
          "data": {
            "text/plain": [
              "[1, 2, 3, 4, 5, 6, 7, 8, 9, 10]"
            ]
          },
          "metadata": {
            "tags": []
          },
          "execution_count": 12
        }
      ]
    },
    {
      "cell_type": "code",
      "metadata": {
        "id": "hTGLgB8uZPez",
        "colab_type": "code",
        "colab": {},
        "outputId": "2c6c6418-122c-45c9-81d9-44a8f18efd7f"
      },
      "source": [
        "result = [i*2 for i in list6]\n",
        "result"
      ],
      "execution_count": 0,
      "outputs": [
        {
          "output_type": "execute_result",
          "data": {
            "text/plain": [
              "[2, 4, 6, 8, 10, 12, 14, 16, 18, 20]"
            ]
          },
          "metadata": {
            "tags": []
          },
          "execution_count": 13
        }
      ]
    },
    {
      "cell_type": "code",
      "metadata": {
        "id": "3q7qXxaiZPe6",
        "colab_type": "code",
        "colab": {},
        "outputId": "9f03f70c-a1c2-44cf-e3ba-f6e13ab2f4c6"
      },
      "source": [
        "result =list(map(lambda i : i*2,list6))\n",
        "result"
      ],
      "execution_count": 0,
      "outputs": [
        {
          "output_type": "execute_result",
          "data": {
            "text/plain": [
              "[2, 4, 6, 8, 10, 12, 14, 16, 18, 20]"
            ]
          },
          "metadata": {
            "tags": []
          },
          "execution_count": 14
        }
      ]
    },
    {
      "cell_type": "code",
      "metadata": {
        "id": "o-aLFRduZPfA",
        "colab_type": "code",
        "colab": {},
        "outputId": "8ab3e3d1-50c6-4739-a4f1-ce49172f6da7"
      },
      "source": [
        "'10 20 30'.split()"
      ],
      "execution_count": 0,
      "outputs": [
        {
          "output_type": "execute_result",
          "data": {
            "text/plain": [
              "['10', '20', '30']"
            ]
          },
          "metadata": {
            "tags": []
          },
          "execution_count": 15
        }
      ]
    },
    {
      "cell_type": "code",
      "metadata": {
        "id": "gXtseiJSZPfG",
        "colab_type": "code",
        "colab": {},
        "outputId": "0a43ba98-01cb-459b-f18b-180aefd6e6c3"
      },
      "source": [
        "#unpacking\n",
        "x,y,z = list(map(int,input(\"enter your input:\").split()))\n",
        "print(x,y,z)"
      ],
      "execution_count": 0,
      "outputs": [
        {
          "output_type": "stream",
          "text": [
            "enter your input:10 20 30\n",
            "10 20 30\n"
          ],
          "name": "stdout"
        }
      ]
    },
    {
      "cell_type": "markdown",
      "metadata": {
        "id": "rz-k3ntwZPfO",
        "colab_type": "text"
      },
      "source": [
        "## Filter()"
      ]
    },
    {
      "cell_type": "code",
      "metadata": {
        "id": "kHyuc2WGZPfP",
        "colab_type": "code",
        "colab": {},
        "outputId": "0a569b1b-b871-470d-cb23-bdaf6fdfb45e"
      },
      "source": [
        "result = []\n",
        "for i in list6:\n",
        "    if i%5 == 0:\n",
        "        result.append(i)\n",
        "result\n"
      ],
      "execution_count": 0,
      "outputs": [
        {
          "output_type": "execute_result",
          "data": {
            "text/plain": [
              "[5, 10]"
            ]
          },
          "metadata": {
            "tags": []
          },
          "execution_count": 19
        }
      ]
    },
    {
      "cell_type": "code",
      "metadata": {
        "id": "Fjvmgh_7ZPfU",
        "colab_type": "code",
        "colab": {},
        "outputId": "ebce5e7b-1685-4ce0-cc54-c7b1e9ec033f"
      },
      "source": [
        "list(filter(lambda x : (x%5 == 0),list6))"
      ],
      "execution_count": 0,
      "outputs": [
        {
          "output_type": "execute_result",
          "data": {
            "text/plain": [
              "[5, 10]"
            ]
          },
          "metadata": {
            "tags": []
          },
          "execution_count": 20
        }
      ]
    },
    {
      "cell_type": "markdown",
      "metadata": {
        "id": "yAPRSGauZPfb",
        "colab_type": "text"
      },
      "source": [
        "## Reduce()"
      ]
    },
    {
      "cell_type": "code",
      "metadata": {
        "id": "KDZjVYghZPfd",
        "colab_type": "code",
        "colab": {}
      },
      "source": [
        "from functools import reduce"
      ],
      "execution_count": 0,
      "outputs": []
    },
    {
      "cell_type": "code",
      "metadata": {
        "id": "zSSvlJIDZPfi",
        "colab_type": "code",
        "colab": {},
        "outputId": "2704a33e-85bf-47b8-88bf-f7be56354125"
      },
      "source": [
        "#traditional method\n",
        "list1=[1,2,3,4,5]\n",
        "m=1\n",
        "for i in list1:\n",
        "   m*=i\n",
        "print(m)\n"
      ],
      "execution_count": 0,
      "outputs": [
        {
          "output_type": "stream",
          "text": [
            "120\n"
          ],
          "name": "stdout"
        }
      ]
    },
    {
      "cell_type": "code",
      "metadata": {
        "id": "pbKOmjG0ZPfp",
        "colab_type": "code",
        "colab": {},
        "outputId": "2e832c8b-fe49-4b11-beed-9cb292920560"
      },
      "source": [
        "#reduce()\n",
        "reduce(lambda x,y:x*y,list1)\n",
        "#[1,2,3,4,5] -->2,3,4,5 -->6,4,5 -->24,5 -->120\n"
      ],
      "execution_count": 0,
      "outputs": [
        {
          "output_type": "execute_result",
          "data": {
            "text/plain": [
              "120"
            ]
          },
          "metadata": {
            "tags": []
          },
          "execution_count": 23
        }
      ]
    },
    {
      "cell_type": "code",
      "metadata": {
        "id": "FHK_nbIOZPfu",
        "colab_type": "code",
        "colab": {}
      },
      "source": [
        ""
      ],
      "execution_count": 0,
      "outputs": []
    }
  ]
}